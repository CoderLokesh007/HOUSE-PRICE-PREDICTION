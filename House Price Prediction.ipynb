{
 "cells": [
  {
   "cell_type": "markdown",
   "metadata": {},
   "source": [
    "# House Prices Prediction"
   ]
  },
  {
   "cell_type": "markdown",
   "metadata": {},
   "source": [
    "# Imports"
   ]
  },
  {
   "cell_type": "code",
   "execution_count": 2,
   "metadata": {},
   "outputs": [],
   "source": [
    "\n",
    "import numpy as np\n",
    "import pandas as pd\n",
    "import seaborn as sns\n",
    "import matplotlib.pyplot as plt\n",
    "from scipy.stats import skew\n",
    "from scipy.stats.stats import pearsonr\n",
    "from sklearn import ensemble, tree\n",
    "from sklearn.model_selection import GridSearchCV\n",
    "\n",
    "import warnings\n",
    "warnings.filterwarnings('ignore')\n",
    "\n",
    "\n",
    "%matplotlib inline\n"
   ]
  },
  {
   "cell_type": "markdown",
   "metadata": {},
   "source": [
    "# Getting Data"
   ]
  },
  {
   "cell_type": "code",
   "execution_count": 3,
   "metadata": {},
   "outputs": [
    {
     "name": "stdout",
     "output_type": "stream",
     "text": [
      "train : (1460, 81)\n",
      "test : (1459, 80)\n"
     ]
    }
   ],
   "source": [
    "\n",
    "\n",
    "train_predictors = pd.read_csv('train.csv')\n",
    "test_predictors = pd.read_csv('test.csv')\n",
    "print(\"train : \" + str(train_predictors.shape))\n",
    "print(\"test : \" + str(test_predictors.shape))"
   ]
  },
  {
   "cell_type": "markdown",
   "metadata": {},
   "source": [
    "# Get Correlations"
   ]
  },
  {
   "cell_type": "code",
   "execution_count": 4,
   "metadata": {},
   "outputs": [
    {
     "data": {
      "text/plain": [
       "SalePrice        1.000000\n",
       "OverallQual      0.790982\n",
       "GrLivArea        0.708624\n",
       "GarageCars       0.640409\n",
       "GarageArea       0.623431\n",
       "TotalBsmtSF      0.613581\n",
       "1stFlrSF         0.605852\n",
       "FullBath         0.560664\n",
       "TotRmsAbvGrd     0.533723\n",
       "YearBuilt        0.522897\n",
       "YearRemodAdd     0.507101\n",
       "GarageYrBlt      0.486362\n",
       "MasVnrArea       0.477493\n",
       "Fireplaces       0.466929\n",
       "BsmtFinSF1       0.386420\n",
       "LotFrontage      0.351799\n",
       "WoodDeckSF       0.324413\n",
       "2ndFlrSF         0.319334\n",
       "OpenPorchSF      0.315856\n",
       "HalfBath         0.284108\n",
       "LotArea          0.263843\n",
       "BsmtFullBath     0.227122\n",
       "BsmtUnfSF        0.214479\n",
       "BedroomAbvGr     0.168213\n",
       "ScreenPorch      0.111447\n",
       "PoolArea         0.092404\n",
       "MoSold           0.046432\n",
       "3SsnPorch        0.044584\n",
       "BsmtFinSF2      -0.011378\n",
       "BsmtHalfBath    -0.016844\n",
       "MiscVal         -0.021190\n",
       "Id              -0.021917\n",
       "LowQualFinSF    -0.025606\n",
       "YrSold          -0.028923\n",
       "OverallCond     -0.077856\n",
       "MSSubClass      -0.084284\n",
       "EnclosedPorch   -0.128578\n",
       "KitchenAbvGr    -0.135907\n",
       "Name: SalePrice, dtype: float64"
      ]
     },
     "execution_count": 4,
     "metadata": {},
     "output_type": "execute_result"
    }
   ],
   "source": [
    "\n",
    "\n",
    "correlations = train_predictors.corr()\n",
    "correlations = correlations[\"SalePrice\"].sort_values(ascending=False)\n",
    "correlations"
   ]
  },
  {
   "cell_type": "markdown",
   "metadata": {},
   "source": [
    "# Drop Target variable from Train Data set"
   ]
  },
  {
   "cell_type": "code",
   "execution_count": 5,
   "metadata": {},
   "outputs": [],
   "source": [
    "\n",
    "train_target = train_predictors['SalePrice']\n",
    "#train_predictors = train.drop(['SalePrice'],axis=1)"
   ]
  },
  {
   "cell_type": "markdown",
   "metadata": {},
   "source": [
    "# Drop Id column from train and test data sets"
   ]
  },
  {
   "cell_type": "code",
   "execution_count": 6,
   "metadata": {},
   "outputs": [],
   "source": [
    "train_ID = train_predictors['Id']\n",
    "test_ID = test_predictors['Id']"
   ]
  },
  {
   "cell_type": "code",
   "execution_count": 7,
   "metadata": {},
   "outputs": [],
   "source": [
    "\n",
    "train_predictors.drop(\"Id\", axis = 1, inplace = True)\n",
    "test_predictors.drop(\"Id\", axis = 1, inplace = True)"
   ]
  },
  {
   "cell_type": "code",
   "execution_count": 8,
   "metadata": {},
   "outputs": [
    {
     "data": {
      "text/html": [
       "<div>\n",
       "<style scoped>\n",
       "    .dataframe tbody tr th:only-of-type {\n",
       "        vertical-align: middle;\n",
       "    }\n",
       "\n",
       "    .dataframe tbody tr th {\n",
       "        vertical-align: top;\n",
       "    }\n",
       "\n",
       "    .dataframe thead th {\n",
       "        text-align: right;\n",
       "    }\n",
       "</style>\n",
       "<table border=\"1\" class=\"dataframe\">\n",
       "  <thead>\n",
       "    <tr style=\"text-align: right;\">\n",
       "      <th></th>\n",
       "      <th>MSSubClass</th>\n",
       "      <th>MSZoning</th>\n",
       "      <th>LotFrontage</th>\n",
       "      <th>LotArea</th>\n",
       "      <th>Street</th>\n",
       "      <th>Alley</th>\n",
       "      <th>LotShape</th>\n",
       "      <th>LandContour</th>\n",
       "      <th>Utilities</th>\n",
       "      <th>LotConfig</th>\n",
       "      <th>...</th>\n",
       "      <th>ScreenPorch</th>\n",
       "      <th>PoolArea</th>\n",
       "      <th>PoolQC</th>\n",
       "      <th>Fence</th>\n",
       "      <th>MiscFeature</th>\n",
       "      <th>MiscVal</th>\n",
       "      <th>MoSold</th>\n",
       "      <th>YrSold</th>\n",
       "      <th>SaleType</th>\n",
       "      <th>SaleCondition</th>\n",
       "    </tr>\n",
       "  </thead>\n",
       "  <tbody>\n",
       "    <tr>\n",
       "      <th>0</th>\n",
       "      <td>20</td>\n",
       "      <td>RH</td>\n",
       "      <td>80.0</td>\n",
       "      <td>11622</td>\n",
       "      <td>Pave</td>\n",
       "      <td>NaN</td>\n",
       "      <td>Reg</td>\n",
       "      <td>Lvl</td>\n",
       "      <td>AllPub</td>\n",
       "      <td>Inside</td>\n",
       "      <td>...</td>\n",
       "      <td>120</td>\n",
       "      <td>0</td>\n",
       "      <td>NaN</td>\n",
       "      <td>MnPrv</td>\n",
       "      <td>NaN</td>\n",
       "      <td>0</td>\n",
       "      <td>6</td>\n",
       "      <td>2010</td>\n",
       "      <td>WD</td>\n",
       "      <td>Normal</td>\n",
       "    </tr>\n",
       "    <tr>\n",
       "      <th>1</th>\n",
       "      <td>20</td>\n",
       "      <td>RL</td>\n",
       "      <td>81.0</td>\n",
       "      <td>14267</td>\n",
       "      <td>Pave</td>\n",
       "      <td>NaN</td>\n",
       "      <td>IR1</td>\n",
       "      <td>Lvl</td>\n",
       "      <td>AllPub</td>\n",
       "      <td>Corner</td>\n",
       "      <td>...</td>\n",
       "      <td>0</td>\n",
       "      <td>0</td>\n",
       "      <td>NaN</td>\n",
       "      <td>NaN</td>\n",
       "      <td>Gar2</td>\n",
       "      <td>12500</td>\n",
       "      <td>6</td>\n",
       "      <td>2010</td>\n",
       "      <td>WD</td>\n",
       "      <td>Normal</td>\n",
       "    </tr>\n",
       "    <tr>\n",
       "      <th>2</th>\n",
       "      <td>60</td>\n",
       "      <td>RL</td>\n",
       "      <td>74.0</td>\n",
       "      <td>13830</td>\n",
       "      <td>Pave</td>\n",
       "      <td>NaN</td>\n",
       "      <td>IR1</td>\n",
       "      <td>Lvl</td>\n",
       "      <td>AllPub</td>\n",
       "      <td>Inside</td>\n",
       "      <td>...</td>\n",
       "      <td>0</td>\n",
       "      <td>0</td>\n",
       "      <td>NaN</td>\n",
       "      <td>MnPrv</td>\n",
       "      <td>NaN</td>\n",
       "      <td>0</td>\n",
       "      <td>3</td>\n",
       "      <td>2010</td>\n",
       "      <td>WD</td>\n",
       "      <td>Normal</td>\n",
       "    </tr>\n",
       "    <tr>\n",
       "      <th>3</th>\n",
       "      <td>60</td>\n",
       "      <td>RL</td>\n",
       "      <td>78.0</td>\n",
       "      <td>9978</td>\n",
       "      <td>Pave</td>\n",
       "      <td>NaN</td>\n",
       "      <td>IR1</td>\n",
       "      <td>Lvl</td>\n",
       "      <td>AllPub</td>\n",
       "      <td>Inside</td>\n",
       "      <td>...</td>\n",
       "      <td>0</td>\n",
       "      <td>0</td>\n",
       "      <td>NaN</td>\n",
       "      <td>NaN</td>\n",
       "      <td>NaN</td>\n",
       "      <td>0</td>\n",
       "      <td>6</td>\n",
       "      <td>2010</td>\n",
       "      <td>WD</td>\n",
       "      <td>Normal</td>\n",
       "    </tr>\n",
       "    <tr>\n",
       "      <th>4</th>\n",
       "      <td>120</td>\n",
       "      <td>RL</td>\n",
       "      <td>43.0</td>\n",
       "      <td>5005</td>\n",
       "      <td>Pave</td>\n",
       "      <td>NaN</td>\n",
       "      <td>IR1</td>\n",
       "      <td>HLS</td>\n",
       "      <td>AllPub</td>\n",
       "      <td>Inside</td>\n",
       "      <td>...</td>\n",
       "      <td>144</td>\n",
       "      <td>0</td>\n",
       "      <td>NaN</td>\n",
       "      <td>NaN</td>\n",
       "      <td>NaN</td>\n",
       "      <td>0</td>\n",
       "      <td>1</td>\n",
       "      <td>2010</td>\n",
       "      <td>WD</td>\n",
       "      <td>Normal</td>\n",
       "    </tr>\n",
       "    <tr>\n",
       "      <th>5</th>\n",
       "      <td>60</td>\n",
       "      <td>RL</td>\n",
       "      <td>75.0</td>\n",
       "      <td>10000</td>\n",
       "      <td>Pave</td>\n",
       "      <td>NaN</td>\n",
       "      <td>IR1</td>\n",
       "      <td>Lvl</td>\n",
       "      <td>AllPub</td>\n",
       "      <td>Corner</td>\n",
       "      <td>...</td>\n",
       "      <td>0</td>\n",
       "      <td>0</td>\n",
       "      <td>NaN</td>\n",
       "      <td>NaN</td>\n",
       "      <td>NaN</td>\n",
       "      <td>0</td>\n",
       "      <td>4</td>\n",
       "      <td>2010</td>\n",
       "      <td>WD</td>\n",
       "      <td>Normal</td>\n",
       "    </tr>\n",
       "    <tr>\n",
       "      <th>6</th>\n",
       "      <td>20</td>\n",
       "      <td>RL</td>\n",
       "      <td>NaN</td>\n",
       "      <td>7980</td>\n",
       "      <td>Pave</td>\n",
       "      <td>NaN</td>\n",
       "      <td>IR1</td>\n",
       "      <td>Lvl</td>\n",
       "      <td>AllPub</td>\n",
       "      <td>Inside</td>\n",
       "      <td>...</td>\n",
       "      <td>0</td>\n",
       "      <td>0</td>\n",
       "      <td>NaN</td>\n",
       "      <td>GdPrv</td>\n",
       "      <td>Shed</td>\n",
       "      <td>500</td>\n",
       "      <td>3</td>\n",
       "      <td>2010</td>\n",
       "      <td>WD</td>\n",
       "      <td>Normal</td>\n",
       "    </tr>\n",
       "    <tr>\n",
       "      <th>7</th>\n",
       "      <td>60</td>\n",
       "      <td>RL</td>\n",
       "      <td>63.0</td>\n",
       "      <td>8402</td>\n",
       "      <td>Pave</td>\n",
       "      <td>NaN</td>\n",
       "      <td>IR1</td>\n",
       "      <td>Lvl</td>\n",
       "      <td>AllPub</td>\n",
       "      <td>Inside</td>\n",
       "      <td>...</td>\n",
       "      <td>0</td>\n",
       "      <td>0</td>\n",
       "      <td>NaN</td>\n",
       "      <td>NaN</td>\n",
       "      <td>NaN</td>\n",
       "      <td>0</td>\n",
       "      <td>5</td>\n",
       "      <td>2010</td>\n",
       "      <td>WD</td>\n",
       "      <td>Normal</td>\n",
       "    </tr>\n",
       "    <tr>\n",
       "      <th>8</th>\n",
       "      <td>20</td>\n",
       "      <td>RL</td>\n",
       "      <td>85.0</td>\n",
       "      <td>10176</td>\n",
       "      <td>Pave</td>\n",
       "      <td>NaN</td>\n",
       "      <td>Reg</td>\n",
       "      <td>Lvl</td>\n",
       "      <td>AllPub</td>\n",
       "      <td>Inside</td>\n",
       "      <td>...</td>\n",
       "      <td>0</td>\n",
       "      <td>0</td>\n",
       "      <td>NaN</td>\n",
       "      <td>NaN</td>\n",
       "      <td>NaN</td>\n",
       "      <td>0</td>\n",
       "      <td>2</td>\n",
       "      <td>2010</td>\n",
       "      <td>WD</td>\n",
       "      <td>Normal</td>\n",
       "    </tr>\n",
       "    <tr>\n",
       "      <th>9</th>\n",
       "      <td>20</td>\n",
       "      <td>RL</td>\n",
       "      <td>70.0</td>\n",
       "      <td>8400</td>\n",
       "      <td>Pave</td>\n",
       "      <td>NaN</td>\n",
       "      <td>Reg</td>\n",
       "      <td>Lvl</td>\n",
       "      <td>AllPub</td>\n",
       "      <td>Corner</td>\n",
       "      <td>...</td>\n",
       "      <td>0</td>\n",
       "      <td>0</td>\n",
       "      <td>NaN</td>\n",
       "      <td>MnPrv</td>\n",
       "      <td>NaN</td>\n",
       "      <td>0</td>\n",
       "      <td>4</td>\n",
       "      <td>2010</td>\n",
       "      <td>WD</td>\n",
       "      <td>Normal</td>\n",
       "    </tr>\n",
       "  </tbody>\n",
       "</table>\n",
       "<p>10 rows × 79 columns</p>\n",
       "</div>"
      ],
      "text/plain": [
       "   MSSubClass MSZoning  LotFrontage  LotArea Street Alley LotShape  \\\n",
       "0          20       RH         80.0    11622   Pave   NaN      Reg   \n",
       "1          20       RL         81.0    14267   Pave   NaN      IR1   \n",
       "2          60       RL         74.0    13830   Pave   NaN      IR1   \n",
       "3          60       RL         78.0     9978   Pave   NaN      IR1   \n",
       "4         120       RL         43.0     5005   Pave   NaN      IR1   \n",
       "5          60       RL         75.0    10000   Pave   NaN      IR1   \n",
       "6          20       RL          NaN     7980   Pave   NaN      IR1   \n",
       "7          60       RL         63.0     8402   Pave   NaN      IR1   \n",
       "8          20       RL         85.0    10176   Pave   NaN      Reg   \n",
       "9          20       RL         70.0     8400   Pave   NaN      Reg   \n",
       "\n",
       "  LandContour Utilities LotConfig  ... ScreenPorch PoolArea PoolQC  Fence  \\\n",
       "0         Lvl    AllPub    Inside  ...         120        0    NaN  MnPrv   \n",
       "1         Lvl    AllPub    Corner  ...           0        0    NaN    NaN   \n",
       "2         Lvl    AllPub    Inside  ...           0        0    NaN  MnPrv   \n",
       "3         Lvl    AllPub    Inside  ...           0        0    NaN    NaN   \n",
       "4         HLS    AllPub    Inside  ...         144        0    NaN    NaN   \n",
       "5         Lvl    AllPub    Corner  ...           0        0    NaN    NaN   \n",
       "6         Lvl    AllPub    Inside  ...           0        0    NaN  GdPrv   \n",
       "7         Lvl    AllPub    Inside  ...           0        0    NaN    NaN   \n",
       "8         Lvl    AllPub    Inside  ...           0        0    NaN    NaN   \n",
       "9         Lvl    AllPub    Corner  ...           0        0    NaN  MnPrv   \n",
       "\n",
       "  MiscFeature MiscVal  MoSold  YrSold  SaleType  SaleCondition  \n",
       "0         NaN       0       6    2010        WD         Normal  \n",
       "1        Gar2   12500       6    2010        WD         Normal  \n",
       "2         NaN       0       3    2010        WD         Normal  \n",
       "3         NaN       0       6    2010        WD         Normal  \n",
       "4         NaN       0       1    2010        WD         Normal  \n",
       "5         NaN       0       4    2010        WD         Normal  \n",
       "6        Shed     500       3    2010        WD         Normal  \n",
       "7         NaN       0       5    2010        WD         Normal  \n",
       "8         NaN       0       2    2010        WD         Normal  \n",
       "9         NaN       0       4    2010        WD         Normal  \n",
       "\n",
       "[10 rows x 79 columns]"
      ]
     },
     "execution_count": 8,
     "metadata": {},
     "output_type": "execute_result"
    }
   ],
   "source": [
    "test_predictors.head(10)"
   ]
  },
  {
   "cell_type": "markdown",
   "metadata": {},
   "source": [
    "**Pre Processing**"
   ]
  },
  {
   "cell_type": "code",
   "execution_count": 9,
   "metadata": {},
   "outputs": [
    {
     "data": {
      "image/png": "[encoded data removed]",
      "text/plain": [
       "<Figure size 432x288 with 1 Axes>"
      ]
     },
     "metadata": {
      "needs_background": "light"
     },
     "output_type": "display_data"
    }
   ],
   "source": [
    "plt.scatter(train_predictors.GrLivArea, train_predictors.SalePrice, c= 'red')\n",
    "plt.title(\"Outliers\")\n",
    "plt.xlabel(\"GrLivArea\")\n",
    "plt.ylabel(\"SalePrice\")\n",
    "plt.show()\n",
    "\n"
   ]
  },
  {
   "cell_type": "code",
   "execution_count": 10,
   "metadata": {},
   "outputs": [],
   "source": [
    "train_predictors = train_predictors[train_predictors.GrLivArea < 4000]"
   ]
  },
  {
   "cell_type": "markdown",
   "metadata": {},
   "source": [
    "# Check for skewness in Target Variable"
   ]
  },
  {
   "cell_type": "code",
   "execution_count": 11,
   "metadata": {},
   "outputs": [
    {
     "data": {
      "text/plain": [
       "<AxesSubplot:xlabel='SalePrice', ylabel='Density'>"
      ]
     },
     "execution_count": 11,
     "metadata": {},
     "output_type": "execute_result"
    },
    {
     "data": {
      "image/png": "[encoded data removed]",
      "text/plain": [
       "<Figure size 432x288 with 1 Axes>"
      ]
     },
     "metadata": {
      "needs_background": "light"
     },
     "output_type": "display_data"
    }
   ],
   "source": [
    "train_target = train_predictors['SalePrice']\n",
    "sns.distplot(train_target)"
   ]
  },
  {
   "cell_type": "markdown",
   "metadata": {},
   "source": [
    "It is Right skewed"
   ]
  },
  {
   "cell_type": "code",
   "execution_count": 12,
   "metadata": {},
   "outputs": [
    {
     "data": {
      "text/plain": [
       "<AxesSubplot:xlabel='SalePrice', ylabel='Density'>"
      ]
     },
     "execution_count": 12,
     "metadata": {},
     "output_type": "execute_result"
    },
    {
     "data": {
      "image/png": "[encoded data removed]",
      "text/plain": [
       "<Figure size 432x288 with 1 Axes>"
      ]
     },
     "metadata": {
      "needs_background": "light"
     },
     "output_type": "display_data"
    }
   ],
   "source": [
    "sns.distplot(np.log(train_target))\n",
    "#Applying log will reduce the effect of Cheap and expensive houses on the models"
   ]
  },
  {
   "cell_type": "code",
   "execution_count": 13,
   "metadata": {},
   "outputs": [],
   "source": [
    "train_target_final = np.log(train_target)"
   ]
  },
  {
   "cell_type": "markdown",
   "metadata": {},
   "source": [
    "# Dealing with Missing Values"
   ]
  },
  {
   "cell_type": "code",
   "execution_count": 14,
   "metadata": {
    "scrolled": true
   },
   "outputs": [
    {
     "data": {
      "text/html": [
       "<div>\n",
       "<style scoped>\n",
       "    .dataframe tbody tr th:only-of-type {\n",
       "        vertical-align: middle;\n",
       "    }\n",
       "\n",
       "    .dataframe tbody tr th {\n",
       "        vertical-align: top;\n",
       "    }\n",
       "\n",
       "    .dataframe thead th {\n",
       "        text-align: right;\n",
       "    }\n",
       "</style>\n",
       "<table border=\"1\" class=\"dataframe\">\n",
       "  <thead>\n",
       "    <tr style=\"text-align: right;\">\n",
       "      <th></th>\n",
       "      <th>Train</th>\n",
       "      <th>Test</th>\n",
       "    </tr>\n",
       "  </thead>\n",
       "  <tbody>\n",
       "    <tr>\n",
       "      <th>MSZoning</th>\n",
       "      <td>0</td>\n",
       "      <td>4.0</td>\n",
       "    </tr>\n",
       "    <tr>\n",
       "      <th>LotFrontage</th>\n",
       "      <td>259</td>\n",
       "      <td>227.0</td>\n",
       "    </tr>\n",
       "    <tr>\n",
       "      <th>Alley</th>\n",
       "      <td>1365</td>\n",
       "      <td>1352.0</td>\n",
       "    </tr>\n",
       "    <tr>\n",
       "      <th>Utilities</th>\n",
       "      <td>0</td>\n",
       "      <td>2.0</td>\n",
       "    </tr>\n",
       "    <tr>\n",
       "      <th>Exterior1st</th>\n",
       "      <td>0</td>\n",
       "      <td>1.0</td>\n",
       "    </tr>\n",
       "    <tr>\n",
       "      <th>Exterior2nd</th>\n",
       "      <td>0</td>\n",
       "      <td>1.0</td>\n",
       "    </tr>\n",
       "    <tr>\n",
       "      <th>MasVnrType</th>\n",
       "      <td>8</td>\n",
       "      <td>16.0</td>\n",
       "    </tr>\n",
       "    <tr>\n",
       "      <th>MasVnrArea</th>\n",
       "      <td>8</td>\n",
       "      <td>15.0</td>\n",
       "    </tr>\n",
       "    <tr>\n",
       "      <th>BsmtQual</th>\n",
       "      <td>37</td>\n",
       "      <td>44.0</td>\n",
       "    </tr>\n",
       "    <tr>\n",
       "      <th>BsmtCond</th>\n",
       "      <td>37</td>\n",
       "      <td>45.0</td>\n",
       "    </tr>\n",
       "    <tr>\n",
       "      <th>BsmtExposure</th>\n",
       "      <td>38</td>\n",
       "      <td>44.0</td>\n",
       "    </tr>\n",
       "    <tr>\n",
       "      <th>BsmtFinType1</th>\n",
       "      <td>37</td>\n",
       "      <td>42.0</td>\n",
       "    </tr>\n",
       "    <tr>\n",
       "      <th>BsmtFinSF1</th>\n",
       "      <td>0</td>\n",
       "      <td>1.0</td>\n",
       "    </tr>\n",
       "    <tr>\n",
       "      <th>BsmtFinType2</th>\n",
       "      <td>38</td>\n",
       "      <td>42.0</td>\n",
       "    </tr>\n",
       "    <tr>\n",
       "      <th>BsmtFinSF2</th>\n",
       "      <td>0</td>\n",
       "      <td>1.0</td>\n",
       "    </tr>\n",
       "    <tr>\n",
       "      <th>BsmtUnfSF</th>\n",
       "      <td>0</td>\n",
       "      <td>1.0</td>\n",
       "    </tr>\n",
       "    <tr>\n",
       "      <th>TotalBsmtSF</th>\n",
       "      <td>0</td>\n",
       "      <td>1.0</td>\n",
       "    </tr>\n",
       "    <tr>\n",
       "      <th>Electrical</th>\n",
       "      <td>1</td>\n",
       "      <td>0.0</td>\n",
       "    </tr>\n",
       "    <tr>\n",
       "      <th>BsmtFullBath</th>\n",
       "      <td>0</td>\n",
       "      <td>2.0</td>\n",
       "    </tr>\n",
       "    <tr>\n",
       "      <th>BsmtHalfBath</th>\n",
       "      <td>0</td>\n",
       "      <td>2.0</td>\n",
       "    </tr>\n",
       "    <tr>\n",
       "      <th>KitchenQual</th>\n",
       "      <td>0</td>\n",
       "      <td>1.0</td>\n",
       "    </tr>\n",
       "    <tr>\n",
       "      <th>Functional</th>\n",
       "      <td>0</td>\n",
       "      <td>2.0</td>\n",
       "    </tr>\n",
       "    <tr>\n",
       "      <th>FireplaceQu</th>\n",
       "      <td>690</td>\n",
       "      <td>730.0</td>\n",
       "    </tr>\n",
       "    <tr>\n",
       "      <th>GarageType</th>\n",
       "      <td>81</td>\n",
       "      <td>76.0</td>\n",
       "    </tr>\n",
       "    <tr>\n",
       "      <th>GarageYrBlt</th>\n",
       "      <td>81</td>\n",
       "      <td>78.0</td>\n",
       "    </tr>\n",
       "    <tr>\n",
       "      <th>GarageFinish</th>\n",
       "      <td>81</td>\n",
       "      <td>78.0</td>\n",
       "    </tr>\n",
       "    <tr>\n",
       "      <th>GarageCars</th>\n",
       "      <td>0</td>\n",
       "      <td>1.0</td>\n",
       "    </tr>\n",
       "    <tr>\n",
       "      <th>GarageArea</th>\n",
       "      <td>0</td>\n",
       "      <td>1.0</td>\n",
       "    </tr>\n",
       "    <tr>\n",
       "      <th>GarageQual</th>\n",
       "      <td>81</td>\n",
       "      <td>78.0</td>\n",
       "    </tr>\n",
       "    <tr>\n",
       "      <th>GarageCond</th>\n",
       "      <td>81</td>\n",
       "      <td>78.0</td>\n",
       "    </tr>\n",
       "    <tr>\n",
       "      <th>PoolQC</th>\n",
       "      <td>1451</td>\n",
       "      <td>1456.0</td>\n",
       "    </tr>\n",
       "    <tr>\n",
       "      <th>Fence</th>\n",
       "      <td>1176</td>\n",
       "      <td>1169.0</td>\n",
       "    </tr>\n",
       "    <tr>\n",
       "      <th>MiscFeature</th>\n",
       "      <td>1402</td>\n",
       "      <td>1408.0</td>\n",
       "    </tr>\n",
       "    <tr>\n",
       "      <th>SaleType</th>\n",
       "      <td>0</td>\n",
       "      <td>1.0</td>\n",
       "    </tr>\n",
       "  </tbody>\n",
       "</table>\n",
       "</div>"
      ],
      "text/plain": [
       "              Train    Test\n",
       "MSZoning          0     4.0\n",
       "LotFrontage     259   227.0\n",
       "Alley          1365  1352.0\n",
       "Utilities         0     2.0\n",
       "Exterior1st       0     1.0\n",
       "Exterior2nd       0     1.0\n",
       "MasVnrType        8    16.0\n",
       "MasVnrArea        8    15.0\n",
       "BsmtQual         37    44.0\n",
       "BsmtCond         37    45.0\n",
       "BsmtExposure     38    44.0\n",
       "BsmtFinType1     37    42.0\n",
       "BsmtFinSF1        0     1.0\n",
       "BsmtFinType2     38    42.0\n",
       "BsmtFinSF2        0     1.0\n",
       "BsmtUnfSF         0     1.0\n",
       "TotalBsmtSF       0     1.0\n",
       "Electrical        1     0.0\n",
       "BsmtFullBath      0     2.0\n",
       "BsmtHalfBath      0     2.0\n",
       "KitchenQual       0     1.0\n",
       "Functional        0     2.0\n",
       "FireplaceQu     690   730.0\n",
       "GarageType       81    76.0\n",
       "GarageYrBlt      81    78.0\n",
       "GarageFinish     81    78.0\n",
       "GarageCars        0     1.0\n",
       "GarageArea        0     1.0\n",
       "GarageQual       81    78.0\n",
       "GarageCond       81    78.0\n",
       "PoolQC         1451  1456.0\n",
       "Fence          1176  1169.0\n",
       "MiscFeature    1402  1408.0\n",
       "SaleType          0     1.0"
      ]
     },
     "execution_count": 14,
     "metadata": {},
     "output_type": "execute_result"
    }
   ],
   "source": [
    "train_predictors_missing = pd.isna(train_predictors).sum()\n",
    "test_missing = pd.isna(test_predictors).sum()\n",
    "\n",
    "missing = pd.concat([train_predictors_missing, test_missing], axis=1, keys=[\"Train\", \"Test\"])\n",
    "\n",
    "\n",
    "missing_values = missing[missing.sum(axis=1) > 0]  #Missing Values\n",
    "missing_values"
   ]
  },
  {
   "cell_type": "markdown",
   "metadata": {},
   "source": [
    "Missing values which has some meaning\n",
    "\n",
    "For example If PoolQC variable is missing that indicates that there is no Pool in th House, We should not remove these types of variables even though they are missing"
   ]
  },
  {
   "cell_type": "code",
   "execution_count": 15,
   "metadata": {},
   "outputs": [],
   "source": [
    "#There are some features which are categorical and whose missing values are meaningful these we can know by looking Description of Data\n",
    "\n",
    "meaningful_missing = [\"Alley\", \"BsmtQual\", \"BsmtCond\", \"BsmtExposure\", \"BsmtFinType1\", \n",
    "                    \"BsmtFinType2\", \"FireplaceQu\", \"GarageType\", \"GarageFinish\", \"GarageQual\", \n",
    "                    \"GarageCond\", \"Fence\",\"PoolQC\", \"MiscFeature\"]"
   ]
  },
  {
   "cell_type": "code",
   "execution_count": 16,
   "metadata": {},
   "outputs": [],
   "source": [
    "for i in meaningful_missing:\n",
    "    train_predictors[i].fillna(\"None\", inplace=True)\n",
    "    test_predictors[i].fillna(\"None\", inplace=True)"
   ]
  },
  {
   "cell_type": "code",
   "execution_count": 17,
   "metadata": {},
   "outputs": [
    {
     "data": {
      "text/html": [
       "<div>\n",
       "<style scoped>\n",
       "    .dataframe tbody tr th:only-of-type {\n",
       "        vertical-align: middle;\n",
       "    }\n",
       "\n",
       "    .dataframe tbody tr th {\n",
       "        vertical-align: top;\n",
       "    }\n",
       "\n",
       "    .dataframe thead th {\n",
       "        text-align: right;\n",
       "    }\n",
       "</style>\n",
       "<table border=\"1\" class=\"dataframe\">\n",
       "  <thead>\n",
       "    <tr style=\"text-align: right;\">\n",
       "      <th></th>\n",
       "      <th>MSSubClass</th>\n",
       "      <th>MSZoning</th>\n",
       "      <th>LotFrontage</th>\n",
       "      <th>LotArea</th>\n",
       "      <th>Street</th>\n",
       "      <th>Alley</th>\n",
       "      <th>LotShape</th>\n",
       "      <th>LandContour</th>\n",
       "      <th>Utilities</th>\n",
       "      <th>LotConfig</th>\n",
       "      <th>...</th>\n",
       "      <th>PoolArea</th>\n",
       "      <th>PoolQC</th>\n",
       "      <th>Fence</th>\n",
       "      <th>MiscFeature</th>\n",
       "      <th>MiscVal</th>\n",
       "      <th>MoSold</th>\n",
       "      <th>YrSold</th>\n",
       "      <th>SaleType</th>\n",
       "      <th>SaleCondition</th>\n",
       "      <th>SalePrice</th>\n",
       "    </tr>\n",
       "  </thead>\n",
       "  <tbody>\n",
       "    <tr>\n",
       "      <th>0</th>\n",
       "      <td>60</td>\n",
       "      <td>RL</td>\n",
       "      <td>65.0</td>\n",
       "      <td>8450</td>\n",
       "      <td>Pave</td>\n",
       "      <td>None</td>\n",
       "      <td>Reg</td>\n",
       "      <td>Lvl</td>\n",
       "      <td>AllPub</td>\n",
       "      <td>Inside</td>\n",
       "      <td>...</td>\n",
       "      <td>0</td>\n",
       "      <td>None</td>\n",
       "      <td>None</td>\n",
       "      <td>None</td>\n",
       "      <td>0</td>\n",
       "      <td>2</td>\n",
       "      <td>2008</td>\n",
       "      <td>WD</td>\n",
       "      <td>Normal</td>\n",
       "      <td>208500</td>\n",
       "    </tr>\n",
       "    <tr>\n",
       "      <th>1</th>\n",
       "      <td>20</td>\n",
       "      <td>RL</td>\n",
       "      <td>80.0</td>\n",
       "      <td>9600</td>\n",
       "      <td>Pave</td>\n",
       "      <td>None</td>\n",
       "      <td>Reg</td>\n",
       "      <td>Lvl</td>\n",
       "      <td>AllPub</td>\n",
       "      <td>FR2</td>\n",
       "      <td>...</td>\n",
       "      <td>0</td>\n",
       "      <td>None</td>\n",
       "      <td>None</td>\n",
       "      <td>None</td>\n",
       "      <td>0</td>\n",
       "      <td>5</td>\n",
       "      <td>2007</td>\n",
       "      <td>WD</td>\n",
       "      <td>Normal</td>\n",
       "      <td>181500</td>\n",
       "    </tr>\n",
       "    <tr>\n",
       "      <th>2</th>\n",
       "      <td>60</td>\n",
       "      <td>RL</td>\n",
       "      <td>68.0</td>\n",
       "      <td>11250</td>\n",
       "      <td>Pave</td>\n",
       "      <td>None</td>\n",
       "      <td>IR1</td>\n",
       "      <td>Lvl</td>\n",
       "      <td>AllPub</td>\n",
       "      <td>Inside</td>\n",
       "      <td>...</td>\n",
       "      <td>0</td>\n",
       "      <td>None</td>\n",
       "      <td>None</td>\n",
       "      <td>None</td>\n",
       "      <td>0</td>\n",
       "      <td>9</td>\n",
       "      <td>2008</td>\n",
       "      <td>WD</td>\n",
       "      <td>Normal</td>\n",
       "      <td>223500</td>\n",
       "    </tr>\n",
       "    <tr>\n",
       "      <th>3</th>\n",
       "      <td>70</td>\n",
       "      <td>RL</td>\n",
       "      <td>60.0</td>\n",
       "      <td>9550</td>\n",
       "      <td>Pave</td>\n",
       "      <td>None</td>\n",
       "      <td>IR1</td>\n",
       "      <td>Lvl</td>\n",
       "      <td>AllPub</td>\n",
       "      <td>Corner</td>\n",
       "      <td>...</td>\n",
       "      <td>0</td>\n",
       "      <td>None</td>\n",
       "      <td>None</td>\n",
       "      <td>None</td>\n",
       "      <td>0</td>\n",
       "      <td>2</td>\n",
       "      <td>2006</td>\n",
       "      <td>WD</td>\n",
       "      <td>Abnorml</td>\n",
       "      <td>140000</td>\n",
       "    </tr>\n",
       "    <tr>\n",
       "      <th>4</th>\n",
       "      <td>60</td>\n",
       "      <td>RL</td>\n",
       "      <td>84.0</td>\n",
       "      <td>14260</td>\n",
       "      <td>Pave</td>\n",
       "      <td>None</td>\n",
       "      <td>IR1</td>\n",
       "      <td>Lvl</td>\n",
       "      <td>AllPub</td>\n",
       "      <td>FR2</td>\n",
       "      <td>...</td>\n",
       "      <td>0</td>\n",
       "      <td>None</td>\n",
       "      <td>None</td>\n",
       "      <td>None</td>\n",
       "      <td>0</td>\n",
       "      <td>12</td>\n",
       "      <td>2008</td>\n",
       "      <td>WD</td>\n",
       "      <td>Normal</td>\n",
       "      <td>250000</td>\n",
       "    </tr>\n",
       "    <tr>\n",
       "      <th>5</th>\n",
       "      <td>50</td>\n",
       "      <td>RL</td>\n",
       "      <td>85.0</td>\n",
       "      <td>14115</td>\n",
       "      <td>Pave</td>\n",
       "      <td>None</td>\n",
       "      <td>IR1</td>\n",
       "      <td>Lvl</td>\n",
       "      <td>AllPub</td>\n",
       "      <td>Inside</td>\n",
       "      <td>...</td>\n",
       "      <td>0</td>\n",
       "      <td>None</td>\n",
       "      <td>MnPrv</td>\n",
       "      <td>Shed</td>\n",
       "      <td>700</td>\n",
       "      <td>10</td>\n",
       "      <td>2009</td>\n",
       "      <td>WD</td>\n",
       "      <td>Normal</td>\n",
       "      <td>143000</td>\n",
       "    </tr>\n",
       "    <tr>\n",
       "      <th>6</th>\n",
       "      <td>20</td>\n",
       "      <td>RL</td>\n",
       "      <td>75.0</td>\n",
       "      <td>10084</td>\n",
       "      <td>Pave</td>\n",
       "      <td>None</td>\n",
       "      <td>Reg</td>\n",
       "      <td>Lvl</td>\n",
       "      <td>AllPub</td>\n",
       "      <td>Inside</td>\n",
       "      <td>...</td>\n",
       "      <td>0</td>\n",
       "      <td>None</td>\n",
       "      <td>None</td>\n",
       "      <td>None</td>\n",
       "      <td>0</td>\n",
       "      <td>8</td>\n",
       "      <td>2007</td>\n",
       "      <td>WD</td>\n",
       "      <td>Normal</td>\n",
       "      <td>307000</td>\n",
       "    </tr>\n",
       "    <tr>\n",
       "      <th>7</th>\n",
       "      <td>60</td>\n",
       "      <td>RL</td>\n",
       "      <td>NaN</td>\n",
       "      <td>10382</td>\n",
       "      <td>Pave</td>\n",
       "      <td>None</td>\n",
       "      <td>IR1</td>\n",
       "      <td>Lvl</td>\n",
       "      <td>AllPub</td>\n",
       "      <td>Corner</td>\n",
       "      <td>...</td>\n",
       "      <td>0</td>\n",
       "      <td>None</td>\n",
       "      <td>None</td>\n",
       "      <td>Shed</td>\n",
       "      <td>350</td>\n",
       "      <td>11</td>\n",
       "      <td>2009</td>\n",
       "      <td>WD</td>\n",
       "      <td>Normal</td>\n",
       "      <td>200000</td>\n",
       "    </tr>\n",
       "    <tr>\n",
       "      <th>8</th>\n",
       "      <td>50</td>\n",
       "      <td>RM</td>\n",
       "      <td>51.0</td>\n",
       "      <td>6120</td>\n",
       "      <td>Pave</td>\n",
       "      <td>None</td>\n",
       "      <td>Reg</td>\n",
       "      <td>Lvl</td>\n",
       "      <td>AllPub</td>\n",
       "      <td>Inside</td>\n",
       "      <td>...</td>\n",
       "      <td>0</td>\n",
       "      <td>None</td>\n",
       "      <td>None</td>\n",
       "      <td>None</td>\n",
       "      <td>0</td>\n",
       "      <td>4</td>\n",
       "      <td>2008</td>\n",
       "      <td>WD</td>\n",
       "      <td>Abnorml</td>\n",
       "      <td>129900</td>\n",
       "    </tr>\n",
       "    <tr>\n",
       "      <th>9</th>\n",
       "      <td>190</td>\n",
       "      <td>RL</td>\n",
       "      <td>50.0</td>\n",
       "      <td>7420</td>\n",
       "      <td>Pave</td>\n",
       "      <td>None</td>\n",
       "      <td>Reg</td>\n",
       "      <td>Lvl</td>\n",
       "      <td>AllPub</td>\n",
       "      <td>Corner</td>\n",
       "      <td>...</td>\n",
       "      <td>0</td>\n",
       "      <td>None</td>\n",
       "      <td>None</td>\n",
       "      <td>None</td>\n",
       "      <td>0</td>\n",
       "      <td>1</td>\n",
       "      <td>2008</td>\n",
       "      <td>WD</td>\n",
       "      <td>Normal</td>\n",
       "      <td>118000</td>\n",
       "    </tr>\n",
       "  </tbody>\n",
       "</table>\n",
       "<p>10 rows × 80 columns</p>\n",
       "</div>"
      ],
      "text/plain": [
       "   MSSubClass MSZoning  LotFrontage  LotArea Street Alley LotShape  \\\n",
       "0          60       RL         65.0     8450   Pave  None      Reg   \n",
       "1          20       RL         80.0     9600   Pave  None      Reg   \n",
       "2          60       RL         68.0    11250   Pave  None      IR1   \n",
       "3          70       RL         60.0     9550   Pave  None      IR1   \n",
       "4          60       RL         84.0    14260   Pave  None      IR1   \n",
       "5          50       RL         85.0    14115   Pave  None      IR1   \n",
       "6          20       RL         75.0    10084   Pave  None      Reg   \n",
       "7          60       RL          NaN    10382   Pave  None      IR1   \n",
       "8          50       RM         51.0     6120   Pave  None      Reg   \n",
       "9         190       RL         50.0     7420   Pave  None      Reg   \n",
       "\n",
       "  LandContour Utilities LotConfig  ... PoolArea PoolQC  Fence MiscFeature  \\\n",
       "0         Lvl    AllPub    Inside  ...        0   None   None        None   \n",
       "1         Lvl    AllPub       FR2  ...        0   None   None        None   \n",
       "2         Lvl    AllPub    Inside  ...        0   None   None        None   \n",
       "3         Lvl    AllPub    Corner  ...        0   None   None        None   \n",
       "4         Lvl    AllPub       FR2  ...        0   None   None        None   \n",
       "5         Lvl    AllPub    Inside  ...        0   None  MnPrv        Shed   \n",
       "6         Lvl    AllPub    Inside  ...        0   None   None        None   \n",
       "7         Lvl    AllPub    Corner  ...        0   None   None        Shed   \n",
       "8         Lvl    AllPub    Inside  ...        0   None   None        None   \n",
       "9         Lvl    AllPub    Corner  ...        0   None   None        None   \n",
       "\n",
       "  MiscVal MoSold  YrSold  SaleType  SaleCondition  SalePrice  \n",
       "0       0      2    2008        WD         Normal     208500  \n",
       "1       0      5    2007        WD         Normal     181500  \n",
       "2       0      9    2008        WD         Normal     223500  \n",
       "3       0      2    2006        WD        Abnorml     140000  \n",
       "4       0     12    2008        WD         Normal     250000  \n",
       "5     700     10    2009        WD         Normal     143000  \n",
       "6       0      8    2007        WD         Normal     307000  \n",
       "7     350     11    2009        WD         Normal     200000  \n",
       "8       0      4    2008        WD        Abnorml     129900  \n",
       "9       0      1    2008        WD         Normal     118000  \n",
       "\n",
       "[10 rows x 80 columns]"
      ]
     },
     "execution_count": 17,
     "metadata": {},
     "output_type": "execute_result"
    }
   ],
   "source": [
    "train_predictors.head(10)"
   ]
  },
  {
   "cell_type": "markdown",
   "metadata": {},
   "source": [
    "Missing Values with no explaination for those Missing values"
   ]
  },
  {
   "cell_type": "code",
   "execution_count": 18,
   "metadata": {},
   "outputs": [
    {
     "data": {
      "text/html": [
       "<div>\n",
       "<style scoped>\n",
       "    .dataframe tbody tr th:only-of-type {\n",
       "        vertical-align: middle;\n",
       "    }\n",
       "\n",
       "    .dataframe tbody tr th {\n",
       "        vertical-align: top;\n",
       "    }\n",
       "\n",
       "    .dataframe thead th {\n",
       "        text-align: right;\n",
       "    }\n",
       "</style>\n",
       "<table border=\"1\" class=\"dataframe\">\n",
       "  <thead>\n",
       "    <tr style=\"text-align: right;\">\n",
       "      <th></th>\n",
       "      <th>Train</th>\n",
       "      <th>Test</th>\n",
       "    </tr>\n",
       "  </thead>\n",
       "  <tbody>\n",
       "    <tr>\n",
       "      <th>MSZoning</th>\n",
       "      <td>0</td>\n",
       "      <td>4.0</td>\n",
       "    </tr>\n",
       "    <tr>\n",
       "      <th>LotFrontage</th>\n",
       "      <td>259</td>\n",
       "      <td>227.0</td>\n",
       "    </tr>\n",
       "    <tr>\n",
       "      <th>Utilities</th>\n",
       "      <td>0</td>\n",
       "      <td>2.0</td>\n",
       "    </tr>\n",
       "    <tr>\n",
       "      <th>Exterior1st</th>\n",
       "      <td>0</td>\n",
       "      <td>1.0</td>\n",
       "    </tr>\n",
       "    <tr>\n",
       "      <th>Exterior2nd</th>\n",
       "      <td>0</td>\n",
       "      <td>1.0</td>\n",
       "    </tr>\n",
       "    <tr>\n",
       "      <th>MasVnrType</th>\n",
       "      <td>8</td>\n",
       "      <td>16.0</td>\n",
       "    </tr>\n",
       "    <tr>\n",
       "      <th>MasVnrArea</th>\n",
       "      <td>8</td>\n",
       "      <td>15.0</td>\n",
       "    </tr>\n",
       "    <tr>\n",
       "      <th>BsmtFinSF1</th>\n",
       "      <td>0</td>\n",
       "      <td>1.0</td>\n",
       "    </tr>\n",
       "    <tr>\n",
       "      <th>BsmtFinSF2</th>\n",
       "      <td>0</td>\n",
       "      <td>1.0</td>\n",
       "    </tr>\n",
       "    <tr>\n",
       "      <th>BsmtUnfSF</th>\n",
       "      <td>0</td>\n",
       "      <td>1.0</td>\n",
       "    </tr>\n",
       "    <tr>\n",
       "      <th>TotalBsmtSF</th>\n",
       "      <td>0</td>\n",
       "      <td>1.0</td>\n",
       "    </tr>\n",
       "    <tr>\n",
       "      <th>Electrical</th>\n",
       "      <td>1</td>\n",
       "      <td>0.0</td>\n",
       "    </tr>\n",
       "    <tr>\n",
       "      <th>BsmtFullBath</th>\n",
       "      <td>0</td>\n",
       "      <td>2.0</td>\n",
       "    </tr>\n",
       "    <tr>\n",
       "      <th>BsmtHalfBath</th>\n",
       "      <td>0</td>\n",
       "      <td>2.0</td>\n",
       "    </tr>\n",
       "    <tr>\n",
       "      <th>KitchenQual</th>\n",
       "      <td>0</td>\n",
       "      <td>1.0</td>\n",
       "    </tr>\n",
       "    <tr>\n",
       "      <th>Functional</th>\n",
       "      <td>0</td>\n",
       "      <td>2.0</td>\n",
       "    </tr>\n",
       "    <tr>\n",
       "      <th>GarageYrBlt</th>\n",
       "      <td>81</td>\n",
       "      <td>78.0</td>\n",
       "    </tr>\n",
       "    <tr>\n",
       "      <th>GarageCars</th>\n",
       "      <td>0</td>\n",
       "      <td>1.0</td>\n",
       "    </tr>\n",
       "    <tr>\n",
       "      <th>GarageArea</th>\n",
       "      <td>0</td>\n",
       "      <td>1.0</td>\n",
       "    </tr>\n",
       "    <tr>\n",
       "      <th>SaleType</th>\n",
       "      <td>0</td>\n",
       "      <td>1.0</td>\n",
       "    </tr>\n",
       "  </tbody>\n",
       "</table>\n",
       "</div>"
      ],
      "text/plain": [
       "              Train   Test\n",
       "MSZoning          0    4.0\n",
       "LotFrontage     259  227.0\n",
       "Utilities         0    2.0\n",
       "Exterior1st       0    1.0\n",
       "Exterior2nd       0    1.0\n",
       "MasVnrType        8   16.0\n",
       "MasVnrArea        8   15.0\n",
       "BsmtFinSF1        0    1.0\n",
       "BsmtFinSF2        0    1.0\n",
       "BsmtUnfSF         0    1.0\n",
       "TotalBsmtSF       0    1.0\n",
       "Electrical        1    0.0\n",
       "BsmtFullBath      0    2.0\n",
       "BsmtHalfBath      0    2.0\n",
       "KitchenQual       0    1.0\n",
       "Functional        0    2.0\n",
       "GarageYrBlt      81   78.0\n",
       "GarageCars        0    1.0\n",
       "GarageArea        0    1.0\n",
       "SaleType          0    1.0"
      ]
     },
     "execution_count": 18,
     "metadata": {},
     "output_type": "execute_result"
    }
   ],
   "source": [
    "train_missing1 = pd.isna(train_predictors).sum()\n",
    "test_missing1 = pd.isna(test_predictors).sum()\n",
    "\n",
    "missing1 = pd.concat([train_missing1, test_missing1], axis=1, keys=[\"Train\", \"Test\"])\n",
    "\n",
    "\n",
    "missing1_values = missing1[missing1.sum(axis=1) > 0]  #Missing Values\n",
    "missing1_values"
   ]
  },
  {
   "cell_type": "code",
   "execution_count": 19,
   "metadata": {},
   "outputs": [],
   "source": [
    "#LotFrontage which is Numeric value has many missing values so we remove it\n",
    "train_predictors.drop(\"LotFrontage\", axis=1, inplace=True)\n",
    "test_predictors.drop(\"LotFrontage\", axis=1, inplace=True)"
   ]
  },
  {
   "cell_type": "code",
   "execution_count": 20,
   "metadata": {},
   "outputs": [
    {
     "data": {
      "text/plain": [
       "Index(['MSSubClass', 'MSZoning', 'LotArea', 'Street', 'Alley', 'LotShape',\n",
       "       'LandContour', 'Utilities', 'LotConfig', 'LandSlope', 'Neighborhood',\n",
       "       'Condition1', 'Condition2', 'BldgType', 'HouseStyle', 'OverallQual',\n",
       "       'OverallCond', 'YearBuilt', 'YearRemodAdd', 'RoofStyle', 'RoofMatl',\n",
       "       'Exterior1st', 'Exterior2nd', 'MasVnrType', 'MasVnrArea', 'ExterQual',\n",
       "       'ExterCond', 'Foundation', 'BsmtQual', 'BsmtCond', 'BsmtExposure',\n",
       "       'BsmtFinType1', 'BsmtFinSF1', 'BsmtFinType2', 'BsmtFinSF2', 'BsmtUnfSF',\n",
       "       'TotalBsmtSF', 'Heating', 'HeatingQC', 'CentralAir', 'Electrical',\n",
       "       '1stFlrSF', '2ndFlrSF', 'LowQualFinSF', 'GrLivArea', 'BsmtFullBath',\n",
       "       'BsmtHalfBath', 'FullBath', 'HalfBath', 'BedroomAbvGr', 'KitchenAbvGr',\n",
       "       'KitchenQual', 'TotRmsAbvGrd', 'Functional', 'Fireplaces',\n",
       "       'FireplaceQu', 'GarageType', 'GarageYrBlt', 'GarageFinish',\n",
       "       'GarageCars', 'GarageArea', 'GarageQual', 'GarageCond', 'PavedDrive',\n",
       "       'WoodDeckSF', 'OpenPorchSF', 'EnclosedPorch', '3SsnPorch',\n",
       "       'ScreenPorch', 'PoolArea', 'PoolQC', 'Fence', 'MiscFeature', 'MiscVal',\n",
       "       'MoSold', 'YrSold', 'SaleType', 'SaleCondition', 'SalePrice'],\n",
       "      dtype='object')"
      ]
     },
     "execution_count": 20,
     "metadata": {},
     "output_type": "execute_result"
    }
   ],
   "source": [
    "train_predictors.columns"
   ]
  },
  {
   "cell_type": "code",
   "execution_count": 21,
   "metadata": {},
   "outputs": [
    {
     "data": {
      "text/plain": [
       "(1459, 78)"
      ]
     },
     "execution_count": 21,
     "metadata": {},
     "output_type": "execute_result"
    }
   ],
   "source": [
    "test_predictors.shape"
   ]
  },
  {
   "cell_type": "code",
   "execution_count": 22,
   "metadata": {},
   "outputs": [
    {
     "data": {
      "text/plain": [
       "(1456, 79)"
      ]
     },
     "execution_count": 22,
     "metadata": {},
     "output_type": "execute_result"
    }
   ],
   "source": [
    "train_predictors.shape"
   ]
  },
  {
   "cell_type": "markdown",
   "metadata": {},
   "source": [
    "Separate Numeric and Categorical features in the train and test data sets"
   ]
  },
  {
   "cell_type": "code",
   "execution_count": 23,
   "metadata": {},
   "outputs": [],
   "source": [
    "numeric_features_train = train_predictors.select_dtypes(include=[np.number])\n",
    "\n",
    "numeric_features_test = test_predictors.select_dtypes(include=[np.number])"
   ]
  },
  {
   "cell_type": "code",
   "execution_count": 24,
   "metadata": {
    "scrolled": true
   },
   "outputs": [
    {
     "data": {
      "text/plain": [
       "Index(['MSSubClass', 'LotArea', 'OverallQual', 'OverallCond', 'YearBuilt',\n",
       "       'YearRemodAdd', 'MasVnrArea', 'BsmtFinSF1', 'BsmtFinSF2', 'BsmtUnfSF',\n",
       "       'TotalBsmtSF', '1stFlrSF', '2ndFlrSF', 'LowQualFinSF', 'GrLivArea',\n",
       "       'BsmtFullBath', 'BsmtHalfBath', 'FullBath', 'HalfBath', 'BedroomAbvGr',\n",
       "       'KitchenAbvGr', 'TotRmsAbvGrd', 'Fireplaces', 'GarageYrBlt',\n",
       "       'GarageCars', 'GarageArea', 'WoodDeckSF', 'OpenPorchSF',\n",
       "       'EnclosedPorch', '3SsnPorch', 'ScreenPorch', 'PoolArea', 'MiscVal',\n",
       "       'MoSold', 'YrSold', 'SalePrice'],\n",
       "      dtype='object')"
      ]
     },
     "execution_count": 24,
     "metadata": {},
     "output_type": "execute_result"
    }
   ],
   "source": [
    "numeric_features_train.columns"
   ]
  },
  {
   "cell_type": "code",
   "execution_count": 25,
   "metadata": {},
   "outputs": [
    {
     "data": {
      "text/plain": [
       "Index(['MSSubClass', 'LotArea', 'OverallQual', 'OverallCond', 'YearBuilt',\n",
       "       'YearRemodAdd', 'MasVnrArea', 'BsmtFinSF1', 'BsmtFinSF2', 'BsmtUnfSF',\n",
       "       'TotalBsmtSF', '1stFlrSF', '2ndFlrSF', 'LowQualFinSF', 'GrLivArea',\n",
       "       'BsmtFullBath', 'BsmtHalfBath', 'FullBath', 'HalfBath', 'BedroomAbvGr',\n",
       "       'KitchenAbvGr', 'TotRmsAbvGrd', 'Fireplaces', 'GarageYrBlt',\n",
       "       'GarageCars', 'GarageArea', 'WoodDeckSF', 'OpenPorchSF',\n",
       "       'EnclosedPorch', '3SsnPorch', 'ScreenPorch', 'PoolArea', 'MiscVal',\n",
       "       'MoSold', 'YrSold'],\n",
       "      dtype='object')"
      ]
     },
     "execution_count": 25,
     "metadata": {},
     "output_type": "execute_result"
    }
   ],
   "source": [
    "numeric_features_test.columns"
   ]
  },
  {
   "cell_type": "code",
   "execution_count": 26,
   "metadata": {},
   "outputs": [],
   "source": [
    "# There are some Numerical features in the data set which are actually categorical, \n",
    "#They are MSSubClass and MoSold (Month sold)\n",
    "#we need to convert them into categorical\n",
    "train_predictors = train_predictors.replace({\"MSSubClass\" : {20 : \"SC20\", 30 : \"SC30\", 40 : \"SC40\", 45 : \"SC45\", \n",
    "                                       50 : \"SC50\", 60 : \"SC60\", 70 : \"SC70\", 75 : \"SC75\", \n",
    "                                       80 : \"SC80\", 85 : \"SC85\", 90 : \"SC90\", 120 : \"SC120\", \n",
    "                                       150 : \"SC150\", 160 : \"SC160\", 180 : \"SC180\", 190 : \"SC190\"},\n",
    "                       \"MoSold\" : {1 : \"Jan\", 2 : \"Feb\", 3 : \"Mar\", 4 : \"Apr\", 5 : \"May\", 6 : \"Jun\",\n",
    "                                   7 : \"Jul\", 8 : \"Aug\", 9 : \"Sep\", 10 : \"Oct\", 11 : \"Nov\", 12 : \"Dec\"}\n",
    "                      })\n",
    "\n",
    "test_predictors = test_predictors.replace({\"MSSubClass\" : {20 : \"SC20\", 30 : \"SC30\", 40 : \"SC40\", 45 : \"SC45\", \n",
    "                                       50 : \"SC50\", 60 : \"SC60\", 70 : \"SC70\", 75 : \"SC75\", \n",
    "                                       80 : \"SC80\", 85 : \"SC85\", 90 : \"SC90\", 120 : \"SC120\", \n",
    "                                       150 : \"SC150\", 160 : \"SC160\", 180 : \"SC180\", 190 : \"SC190\"},\n",
    "                       \"MoSold\" : {1 : \"Jan\", 2 : \"Feb\", 3 : \"Mar\", 4 : \"Apr\", 5 : \"May\", 6 : \"Jun\",\n",
    "                                   7 : \"Jul\", 8 : \"Aug\", 9 : \"Sep\", 10 : \"Oct\", 11 : \"Nov\", 12 : \"Dec\"}\n",
    "                      })"
   ]
  },
  {
   "cell_type": "code",
   "execution_count": 27,
   "metadata": {},
   "outputs": [],
   "source": [
    "#Drop Target variable from Train Data set\n",
    "train_predictors = train_predictors.drop(['SalePrice'],axis=1)"
   ]
  },
  {
   "cell_type": "code",
   "execution_count": 28,
   "metadata": {},
   "outputs": [],
   "source": [
    "numeric_features_train = train_predictors.select_dtypes(include=[np.number])\n",
    "\n",
    "numeric_features_test = test_predictors.select_dtypes(include=[np.number])"
   ]
  },
  {
   "cell_type": "code",
   "execution_count": 29,
   "metadata": {},
   "outputs": [],
   "source": [
    "categorical_features_train = train_predictors.select_dtypes(include=[object])\n",
    "\n",
    "categorical_features_test = test_predictors.select_dtypes(include=[object])"
   ]
  },
  {
   "cell_type": "code",
   "execution_count": 30,
   "metadata": {},
   "outputs": [
    {
     "data": {
      "text/plain": [
       "Index(['LotArea', 'OverallQual', 'OverallCond', 'YearBuilt', 'YearRemodAdd',\n",
       "       'MasVnrArea', 'BsmtFinSF1', 'BsmtFinSF2', 'BsmtUnfSF', 'TotalBsmtSF',\n",
       "       '1stFlrSF', '2ndFlrSF', 'LowQualFinSF', 'GrLivArea', 'BsmtFullBath',\n",
       "       'BsmtHalfBath', 'FullBath', 'HalfBath', 'BedroomAbvGr', 'KitchenAbvGr',\n",
       "       'TotRmsAbvGrd', 'Fireplaces', 'GarageYrBlt', 'GarageCars', 'GarageArea',\n",
       "       'WoodDeckSF', 'OpenPorchSF', 'EnclosedPorch', '3SsnPorch',\n",
       "       'ScreenPorch', 'PoolArea', 'MiscVal', 'YrSold'],\n",
       "      dtype='object')"
      ]
     },
     "execution_count": 30,
     "metadata": {},
     "output_type": "execute_result"
    }
   ],
   "source": [
    "numeric_features_train.columns"
   ]
  },
  {
   "cell_type": "code",
   "execution_count": 31,
   "metadata": {},
   "outputs": [],
   "source": [
    "numeric_features_train.fillna(numeric_features_train.mean(),inplace=True)\n",
    "numeric_features_test.fillna(numeric_features_test.mean(),inplace=True)"
   ]
  },
  {
   "cell_type": "code",
   "execution_count": 32,
   "metadata": {},
   "outputs": [
    {
     "data": {
      "text/plain": [
       "(1456, 33)"
      ]
     },
     "execution_count": 32,
     "metadata": {},
     "output_type": "execute_result"
    }
   ],
   "source": [
    "numeric_features_train.shape"
   ]
  },
  {
   "cell_type": "code",
   "execution_count": 33,
   "metadata": {},
   "outputs": [
    {
     "data": {
      "text/plain": [
       "(1459, 33)"
      ]
     },
     "execution_count": 33,
     "metadata": {},
     "output_type": "execute_result"
    }
   ],
   "source": [
    "numeric_features_test.shape"
   ]
  },
  {
   "cell_type": "code",
   "execution_count": 34,
   "metadata": {},
   "outputs": [],
   "source": [
    "categorical_features_train.fillna(categorical_features_train.mode(), inplace = True)\n",
    "categorical_features_test.fillna(categorical_features_test.mode(), inplace = True)"
   ]
  },
  {
   "cell_type": "code",
   "execution_count": 35,
   "metadata": {},
   "outputs": [
    {
     "data": {
      "text/plain": [
       "(1456, 45)"
      ]
     },
     "execution_count": 35,
     "metadata": {},
     "output_type": "execute_result"
    }
   ],
   "source": [
    "categorical_features_train.shape"
   ]
  },
  {
   "cell_type": "code",
   "execution_count": 36,
   "metadata": {},
   "outputs": [
    {
     "data": {
      "text/plain": [
       "(1459, 45)"
      ]
     },
     "execution_count": 36,
     "metadata": {},
     "output_type": "execute_result"
    }
   ],
   "source": [
    "categorical_features_test.shape"
   ]
  },
  {
   "cell_type": "code",
   "execution_count": 37,
   "metadata": {},
   "outputs": [],
   "source": [
    "#Combining Categorical features of both train and test sets for Encoding\n",
    "categorical_features_traintest = pd.concat([categorical_features_train , categorical_features_test])"
   ]
  },
  {
   "cell_type": "code",
   "execution_count": 38,
   "metadata": {},
   "outputs": [
    {
     "data": {
      "text/plain": [
       "1456"
      ]
     },
     "execution_count": 38,
     "metadata": {},
     "output_type": "execute_result"
    }
   ],
   "source": [
    "ntrain = categorical_features_train.shape[0]\n",
    "ntrain"
   ]
  },
  {
   "cell_type": "code",
   "execution_count": 39,
   "metadata": {},
   "outputs": [
    {
     "data": {
      "text/plain": [
       "Index(['MSSubClass', 'MSZoning', 'Street', 'Alley', 'LotShape', 'LandContour',\n",
       "       'Utilities', 'LotConfig', 'LandSlope', 'Neighborhood', 'Condition1',\n",
       "       'Condition2', 'BldgType', 'HouseStyle', 'RoofStyle', 'RoofMatl',\n",
       "       'Exterior1st', 'Exterior2nd', 'MasVnrType', 'ExterQual', 'ExterCond',\n",
       "       'Foundation', 'BsmtQual', 'BsmtCond', 'BsmtExposure', 'BsmtFinType1',\n",
       "       'BsmtFinType2', 'Heating', 'HeatingQC', 'CentralAir', 'Electrical',\n",
       "       'KitchenQual', 'Functional', 'FireplaceQu', 'GarageType',\n",
       "       'GarageFinish', 'GarageQual', 'GarageCond', 'PavedDrive', 'PoolQC',\n",
       "       'Fence', 'MiscFeature', 'MoSold', 'SaleType', 'SaleCondition'],\n",
       "      dtype='object')"
      ]
     },
     "execution_count": 39,
     "metadata": {},
     "output_type": "execute_result"
    }
   ],
   "source": [
    "categorical_features_traintest.columns"
   ]
  },
  {
   "cell_type": "markdown",
   "metadata": {},
   "source": [
    "Encoding Categorical features"
   ]
  },
  {
   "cell_type": "code",
   "execution_count": 40,
   "metadata": {},
   "outputs": [
    {
     "data": {
      "text/html": [
       "<div>\n",
       "<style scoped>\n",
       "    .dataframe tbody tr th:only-of-type {\n",
       "        vertical-align: middle;\n",
       "    }\n",
       "\n",
       "    .dataframe tbody tr th {\n",
       "        vertical-align: top;\n",
       "    }\n",
       "\n",
       "    .dataframe thead th {\n",
       "        text-align: right;\n",
       "    }\n",
       "</style>\n",
       "<table border=\"1\" class=\"dataframe\">\n",
       "  <thead>\n",
       "    <tr style=\"text-align: right;\">\n",
       "      <th></th>\n",
       "      <th>intercept</th>\n",
       "      <th>MSSubClass_0</th>\n",
       "      <th>MSSubClass_1</th>\n",
       "      <th>MSSubClass_2</th>\n",
       "      <th>MSSubClass_3</th>\n",
       "      <th>MSSubClass_4</th>\n",
       "      <th>MSSubClass_5</th>\n",
       "      <th>MSSubClass_6</th>\n",
       "      <th>MSSubClass_7</th>\n",
       "      <th>MSSubClass_8</th>\n",
       "      <th>...</th>\n",
       "      <th>SaleType_4</th>\n",
       "      <th>SaleType_5</th>\n",
       "      <th>SaleType_6</th>\n",
       "      <th>SaleType_7</th>\n",
       "      <th>SaleType_8</th>\n",
       "      <th>SaleCondition_0</th>\n",
       "      <th>SaleCondition_1</th>\n",
       "      <th>SaleCondition_2</th>\n",
       "      <th>SaleCondition_3</th>\n",
       "      <th>SaleCondition_4</th>\n",
       "    </tr>\n",
       "  </thead>\n",
       "  <tbody>\n",
       "    <tr>\n",
       "      <th>0</th>\n",
       "      <td>1</td>\n",
       "      <td>-0.9375</td>\n",
       "      <td>-0.875</td>\n",
       "      <td>-0.8125</td>\n",
       "      <td>-0.75</td>\n",
       "      <td>-0.6875</td>\n",
       "      <td>-0.625</td>\n",
       "      <td>-0.5625</td>\n",
       "      <td>-0.5</td>\n",
       "      <td>-0.4375</td>\n",
       "      <td>...</td>\n",
       "      <td>-0.5</td>\n",
       "      <td>-0.4</td>\n",
       "      <td>-0.3</td>\n",
       "      <td>-0.2</td>\n",
       "      <td>-0.1</td>\n",
       "      <td>-0.833333</td>\n",
       "      <td>-0.666667</td>\n",
       "      <td>-0.5</td>\n",
       "      <td>-0.333333</td>\n",
       "      <td>-0.166667</td>\n",
       "    </tr>\n",
       "    <tr>\n",
       "      <th>1</th>\n",
       "      <td>1</td>\n",
       "      <td>0.0625</td>\n",
       "      <td>-0.875</td>\n",
       "      <td>-0.8125</td>\n",
       "      <td>-0.75</td>\n",
       "      <td>-0.6875</td>\n",
       "      <td>-0.625</td>\n",
       "      <td>-0.5625</td>\n",
       "      <td>-0.5</td>\n",
       "      <td>-0.4375</td>\n",
       "      <td>...</td>\n",
       "      <td>-0.5</td>\n",
       "      <td>-0.4</td>\n",
       "      <td>-0.3</td>\n",
       "      <td>-0.2</td>\n",
       "      <td>-0.1</td>\n",
       "      <td>-0.833333</td>\n",
       "      <td>-0.666667</td>\n",
       "      <td>-0.5</td>\n",
       "      <td>-0.333333</td>\n",
       "      <td>-0.166667</td>\n",
       "    </tr>\n",
       "    <tr>\n",
       "      <th>2</th>\n",
       "      <td>1</td>\n",
       "      <td>-0.9375</td>\n",
       "      <td>-0.875</td>\n",
       "      <td>-0.8125</td>\n",
       "      <td>-0.75</td>\n",
       "      <td>-0.6875</td>\n",
       "      <td>-0.625</td>\n",
       "      <td>-0.5625</td>\n",
       "      <td>-0.5</td>\n",
       "      <td>-0.4375</td>\n",
       "      <td>...</td>\n",
       "      <td>-0.5</td>\n",
       "      <td>-0.4</td>\n",
       "      <td>-0.3</td>\n",
       "      <td>-0.2</td>\n",
       "      <td>-0.1</td>\n",
       "      <td>-0.833333</td>\n",
       "      <td>-0.666667</td>\n",
       "      <td>-0.5</td>\n",
       "      <td>-0.333333</td>\n",
       "      <td>-0.166667</td>\n",
       "    </tr>\n",
       "    <tr>\n",
       "      <th>3</th>\n",
       "      <td>1</td>\n",
       "      <td>0.0625</td>\n",
       "      <td>0.125</td>\n",
       "      <td>-0.8125</td>\n",
       "      <td>-0.75</td>\n",
       "      <td>-0.6875</td>\n",
       "      <td>-0.625</td>\n",
       "      <td>-0.5625</td>\n",
       "      <td>-0.5</td>\n",
       "      <td>-0.4375</td>\n",
       "      <td>...</td>\n",
       "      <td>-0.5</td>\n",
       "      <td>-0.4</td>\n",
       "      <td>-0.3</td>\n",
       "      <td>-0.2</td>\n",
       "      <td>-0.1</td>\n",
       "      <td>0.166667</td>\n",
       "      <td>-0.666667</td>\n",
       "      <td>-0.5</td>\n",
       "      <td>-0.333333</td>\n",
       "      <td>-0.166667</td>\n",
       "    </tr>\n",
       "    <tr>\n",
       "      <th>4</th>\n",
       "      <td>1</td>\n",
       "      <td>-0.9375</td>\n",
       "      <td>-0.875</td>\n",
       "      <td>-0.8125</td>\n",
       "      <td>-0.75</td>\n",
       "      <td>-0.6875</td>\n",
       "      <td>-0.625</td>\n",
       "      <td>-0.5625</td>\n",
       "      <td>-0.5</td>\n",
       "      <td>-0.4375</td>\n",
       "      <td>...</td>\n",
       "      <td>-0.5</td>\n",
       "      <td>-0.4</td>\n",
       "      <td>-0.3</td>\n",
       "      <td>-0.2</td>\n",
       "      <td>-0.1</td>\n",
       "      <td>-0.833333</td>\n",
       "      <td>-0.666667</td>\n",
       "      <td>-0.5</td>\n",
       "      <td>-0.333333</td>\n",
       "      <td>-0.166667</td>\n",
       "    </tr>\n",
       "  </tbody>\n",
       "</table>\n",
       "<p>5 rows × 258 columns</p>\n",
       "</div>"
      ],
      "text/plain": [
       "   intercept  MSSubClass_0  MSSubClass_1  MSSubClass_2  MSSubClass_3  \\\n",
       "0          1       -0.9375        -0.875       -0.8125         -0.75   \n",
       "1          1        0.0625        -0.875       -0.8125         -0.75   \n",
       "2          1       -0.9375        -0.875       -0.8125         -0.75   \n",
       "3          1        0.0625         0.125       -0.8125         -0.75   \n",
       "4          1       -0.9375        -0.875       -0.8125         -0.75   \n",
       "\n",
       "   MSSubClass_4  MSSubClass_5  MSSubClass_6  MSSubClass_7  MSSubClass_8  ...  \\\n",
       "0       -0.6875        -0.625       -0.5625          -0.5       -0.4375  ...   \n",
       "1       -0.6875        -0.625       -0.5625          -0.5       -0.4375  ...   \n",
       "2       -0.6875        -0.625       -0.5625          -0.5       -0.4375  ...   \n",
       "3       -0.6875        -0.625       -0.5625          -0.5       -0.4375  ...   \n",
       "4       -0.6875        -0.625       -0.5625          -0.5       -0.4375  ...   \n",
       "\n",
       "   SaleType_4  SaleType_5  SaleType_6  SaleType_7  SaleType_8  \\\n",
       "0        -0.5        -0.4        -0.3        -0.2        -0.1   \n",
       "1        -0.5        -0.4        -0.3        -0.2        -0.1   \n",
       "2        -0.5        -0.4        -0.3        -0.2        -0.1   \n",
       "3        -0.5        -0.4        -0.3        -0.2        -0.1   \n",
       "4        -0.5        -0.4        -0.3        -0.2        -0.1   \n",
       "\n",
       "   SaleCondition_0  SaleCondition_1  SaleCondition_2  SaleCondition_3  \\\n",
       "0        -0.833333        -0.666667             -0.5        -0.333333   \n",
       "1        -0.833333        -0.666667             -0.5        -0.333333   \n",
       "2        -0.833333        -0.666667             -0.5        -0.333333   \n",
       "3         0.166667        -0.666667             -0.5        -0.333333   \n",
       "4        -0.833333        -0.666667             -0.5        -0.333333   \n",
       "\n",
       "   SaleCondition_4  \n",
       "0        -0.166667  \n",
       "1        -0.166667  \n",
       "2        -0.166667  \n",
       "3        -0.166667  \n",
       "4        -0.166667  \n",
       "\n",
       "[5 rows x 258 columns]"
      ]
     },
     "execution_count": 40,
     "metadata": {},
     "output_type": "execute_result"
    }
   ],
   "source": [
    "#BackwardDifference Encoder\n",
    "import category_encoders as ce\n",
    "encoder = ce.BackwardDifferenceEncoder(cols=['MSSubClass', 'MSZoning', 'Street', 'Alley', 'LotShape', 'LandContour',\n",
    "       'Utilities', 'LotConfig', 'LandSlope', 'Neighborhood', 'Condition1',\n",
    "       'Condition2', 'BldgType', 'HouseStyle', 'RoofStyle', 'RoofMatl',\n",
    "       'Exterior1st', 'Exterior2nd', 'MasVnrType', 'ExterQual', 'ExterCond',\n",
    "       'Foundation', 'BsmtQual', 'BsmtCond', 'BsmtExposure', 'BsmtFinType1',\n",
    "       'BsmtFinType2', 'Heating', 'HeatingQC', 'CentralAir', 'Electrical',\n",
    "       'KitchenQual', 'Functional', 'FireplaceQu', 'GarageType',\n",
    "       'GarageFinish', 'GarageQual', 'GarageCond', 'PavedDrive', 'PoolQC',\n",
    "       'Fence', 'MiscFeature', 'MoSold', 'SaleType', 'SaleCondition'])\n",
    "categorical_encoded = encoder.fit_transform(categorical_features_traintest)\n",
    "\n",
    "categorical_encoded.head()"
   ]
  },
  {
   "cell_type": "code",
   "execution_count": 41,
   "metadata": {},
   "outputs": [],
   "source": [
    "#Separating Categorical features of Train and test data sets after encoding\n",
    "categorical_train_encoded = categorical_encoded[:ntrain]\n",
    "categorical_test_encoded = categorical_encoded[ntrain:]"
   ]
  },
  {
   "cell_type": "code",
   "execution_count": 42,
   "metadata": {},
   "outputs": [],
   "source": [
    "final_train = pd.concat([numeric_features_train, categorical_train_encoded],axis=1)\n",
    "final_test = pd.concat([numeric_features_test, categorical_test_encoded],axis=1)"
   ]
  },
  {
   "cell_type": "code",
   "execution_count": 43,
   "metadata": {},
   "outputs": [
    {
     "data": {
      "text/html": [
       "<div>\n",
       "<style scoped>\n",
       "    .dataframe tbody tr th:only-of-type {\n",
       "        vertical-align: middle;\n",
       "    }\n",
       "\n",
       "    .dataframe tbody tr th {\n",
       "        vertical-align: top;\n",
       "    }\n",
       "\n",
       "    .dataframe thead th {\n",
       "        text-align: right;\n",
       "    }\n",
       "</style>\n",
       "<table border=\"1\" class=\"dataframe\">\n",
       "  <thead>\n",
       "    <tr style=\"text-align: right;\">\n",
       "      <th></th>\n",
       "      <th>LotArea</th>\n",
       "      <th>OverallQual</th>\n",
       "      <th>OverallCond</th>\n",
       "      <th>YearBuilt</th>\n",
       "      <th>YearRemodAdd</th>\n",
       "      <th>MasVnrArea</th>\n",
       "      <th>BsmtFinSF1</th>\n",
       "      <th>BsmtFinSF2</th>\n",
       "      <th>BsmtUnfSF</th>\n",
       "      <th>TotalBsmtSF</th>\n",
       "      <th>...</th>\n",
       "      <th>SaleType_4</th>\n",
       "      <th>SaleType_5</th>\n",
       "      <th>SaleType_6</th>\n",
       "      <th>SaleType_7</th>\n",
       "      <th>SaleType_8</th>\n",
       "      <th>SaleCondition_0</th>\n",
       "      <th>SaleCondition_1</th>\n",
       "      <th>SaleCondition_2</th>\n",
       "      <th>SaleCondition_3</th>\n",
       "      <th>SaleCondition_4</th>\n",
       "    </tr>\n",
       "  </thead>\n",
       "  <tbody>\n",
       "    <tr>\n",
       "      <th>0</th>\n",
       "      <td>8450</td>\n",
       "      <td>7</td>\n",
       "      <td>5</td>\n",
       "      <td>2003</td>\n",
       "      <td>2003</td>\n",
       "      <td>196.0</td>\n",
       "      <td>706</td>\n",
       "      <td>0</td>\n",
       "      <td>150</td>\n",
       "      <td>856</td>\n",
       "      <td>...</td>\n",
       "      <td>-0.5</td>\n",
       "      <td>-0.4</td>\n",
       "      <td>-0.3</td>\n",
       "      <td>-0.2</td>\n",
       "      <td>-0.1</td>\n",
       "      <td>-0.833333</td>\n",
       "      <td>-0.666667</td>\n",
       "      <td>-0.5</td>\n",
       "      <td>-0.333333</td>\n",
       "      <td>-0.166667</td>\n",
       "    </tr>\n",
       "    <tr>\n",
       "      <th>1</th>\n",
       "      <td>9600</td>\n",
       "      <td>6</td>\n",
       "      <td>8</td>\n",
       "      <td>1976</td>\n",
       "      <td>1976</td>\n",
       "      <td>0.0</td>\n",
       "      <td>978</td>\n",
       "      <td>0</td>\n",
       "      <td>284</td>\n",
       "      <td>1262</td>\n",
       "      <td>...</td>\n",
       "      <td>-0.5</td>\n",
       "      <td>-0.4</td>\n",
       "      <td>-0.3</td>\n",
       "      <td>-0.2</td>\n",
       "      <td>-0.1</td>\n",
       "      <td>-0.833333</td>\n",
       "      <td>-0.666667</td>\n",
       "      <td>-0.5</td>\n",
       "      <td>-0.333333</td>\n",
       "      <td>-0.166667</td>\n",
       "    </tr>\n",
       "    <tr>\n",
       "      <th>2</th>\n",
       "      <td>11250</td>\n",
       "      <td>7</td>\n",
       "      <td>5</td>\n",
       "      <td>2001</td>\n",
       "      <td>2002</td>\n",
       "      <td>162.0</td>\n",
       "      <td>486</td>\n",
       "      <td>0</td>\n",
       "      <td>434</td>\n",
       "      <td>920</td>\n",
       "      <td>...</td>\n",
       "      <td>-0.5</td>\n",
       "      <td>-0.4</td>\n",
       "      <td>-0.3</td>\n",
       "      <td>-0.2</td>\n",
       "      <td>-0.1</td>\n",
       "      <td>-0.833333</td>\n",
       "      <td>-0.666667</td>\n",
       "      <td>-0.5</td>\n",
       "      <td>-0.333333</td>\n",
       "      <td>-0.166667</td>\n",
       "    </tr>\n",
       "    <tr>\n",
       "      <th>3</th>\n",
       "      <td>9550</td>\n",
       "      <td>7</td>\n",
       "      <td>5</td>\n",
       "      <td>1915</td>\n",
       "      <td>1970</td>\n",
       "      <td>0.0</td>\n",
       "      <td>216</td>\n",
       "      <td>0</td>\n",
       "      <td>540</td>\n",
       "      <td>756</td>\n",
       "      <td>...</td>\n",
       "      <td>-0.5</td>\n",
       "      <td>-0.4</td>\n",
       "      <td>-0.3</td>\n",
       "      <td>-0.2</td>\n",
       "      <td>-0.1</td>\n",
       "      <td>0.166667</td>\n",
       "      <td>-0.666667</td>\n",
       "      <td>-0.5</td>\n",
       "      <td>-0.333333</td>\n",
       "      <td>-0.166667</td>\n",
       "    </tr>\n",
       "    <tr>\n",
       "      <th>4</th>\n",
       "      <td>14260</td>\n",
       "      <td>8</td>\n",
       "      <td>5</td>\n",
       "      <td>2000</td>\n",
       "      <td>2000</td>\n",
       "      <td>350.0</td>\n",
       "      <td>655</td>\n",
       "      <td>0</td>\n",
       "      <td>490</td>\n",
       "      <td>1145</td>\n",
       "      <td>...</td>\n",
       "      <td>-0.5</td>\n",
       "      <td>-0.4</td>\n",
       "      <td>-0.3</td>\n",
       "      <td>-0.2</td>\n",
       "      <td>-0.1</td>\n",
       "      <td>-0.833333</td>\n",
       "      <td>-0.666667</td>\n",
       "      <td>-0.5</td>\n",
       "      <td>-0.333333</td>\n",
       "      <td>-0.166667</td>\n",
       "    </tr>\n",
       "  </tbody>\n",
       "</table>\n",
       "<p>5 rows × 291 columns</p>\n",
       "</div>"
      ],
      "text/plain": [
       "   LotArea  OverallQual  OverallCond  YearBuilt  YearRemodAdd  MasVnrArea  \\\n",
       "0     8450            7            5       2003          2003       196.0   \n",
       "1     9600            6            8       1976          1976         0.0   \n",
       "2    11250            7            5       2001          2002       162.0   \n",
       "3     9550            7            5       1915          1970         0.0   \n",
       "4    14260            8            5       2000          2000       350.0   \n",
       "\n",
       "   BsmtFinSF1  BsmtFinSF2  BsmtUnfSF  TotalBsmtSF  ...  SaleType_4  \\\n",
       "0         706           0        150          856  ...        -0.5   \n",
       "1         978           0        284         1262  ...        -0.5   \n",
       "2         486           0        434          920  ...        -0.5   \n",
       "3         216           0        540          756  ...        -0.5   \n",
       "4         655           0        490         1145  ...        -0.5   \n",
       "\n",
       "   SaleType_5  SaleType_6  SaleType_7  SaleType_8  SaleCondition_0  \\\n",
       "0        -0.4        -0.3        -0.2        -0.1        -0.833333   \n",
       "1        -0.4        -0.3        -0.2        -0.1        -0.833333   \n",
       "2        -0.4        -0.3        -0.2        -0.1        -0.833333   \n",
       "3        -0.4        -0.3        -0.2        -0.1         0.166667   \n",
       "4        -0.4        -0.3        -0.2        -0.1        -0.833333   \n",
       "\n",
       "   SaleCondition_1  SaleCondition_2  SaleCondition_3  SaleCondition_4  \n",
       "0        -0.666667             -0.5        -0.333333        -0.166667  \n",
       "1        -0.666667             -0.5        -0.333333        -0.166667  \n",
       "2        -0.666667             -0.5        -0.333333        -0.166667  \n",
       "3        -0.666667             -0.5        -0.333333        -0.166667  \n",
       "4        -0.666667             -0.5        -0.333333        -0.166667  \n",
       "\n",
       "[5 rows x 291 columns]"
      ]
     },
     "execution_count": 43,
     "metadata": {},
     "output_type": "execute_result"
    }
   ],
   "source": [
    "final_train.head()"
   ]
  },
  {
   "cell_type": "code",
   "execution_count": 44,
   "metadata": {},
   "outputs": [
    {
     "data": {
      "text/plain": [
       "Index(['LotArea', 'OverallQual', 'OverallCond', 'YearBuilt', 'YearRemodAdd',\n",
       "       'MasVnrArea', 'BsmtFinSF1', 'BsmtFinSF2', 'BsmtUnfSF', 'TotalBsmtSF',\n",
       "       ...\n",
       "       'SaleType_4', 'SaleType_5', 'SaleType_6', 'SaleType_7', 'SaleType_8',\n",
       "       'SaleCondition_0', 'SaleCondition_1', 'SaleCondition_2',\n",
       "       'SaleCondition_3', 'SaleCondition_4'],\n",
       "      dtype='object', length=291)"
      ]
     },
     "execution_count": 44,
     "metadata": {},
     "output_type": "execute_result"
    }
   ],
   "source": [
    "final_train.columns"
   ]
  },
  {
   "cell_type": "code",
   "execution_count": 45,
   "metadata": {},
   "outputs": [
    {
     "data": {
      "text/plain": [
       "Index(['LotArea', 'OverallQual', 'OverallCond', 'YearBuilt', 'YearRemodAdd',\n",
       "       'MasVnrArea', 'BsmtFinSF1', 'BsmtFinSF2', 'BsmtUnfSF', 'TotalBsmtSF',\n",
       "       ...\n",
       "       'SaleType_4', 'SaleType_5', 'SaleType_6', 'SaleType_7', 'SaleType_8',\n",
       "       'SaleCondition_0', 'SaleCondition_1', 'SaleCondition_2',\n",
       "       'SaleCondition_3', 'SaleCondition_4'],\n",
       "      dtype='object', length=291)"
      ]
     },
     "execution_count": 45,
     "metadata": {},
     "output_type": "execute_result"
    }
   ],
   "source": [
    "final_test.columns"
   ]
  },
  {
   "cell_type": "markdown",
   "metadata": {},
   "source": [
    "# Feature Engineering"
   ]
  },
  {
   "cell_type": "code",
   "execution_count": 46,
   "metadata": {},
   "outputs": [],
   "source": [
    "#Adding new features to train and test data\n",
    "# Overall quality of the house\n",
    "# Total number of bathrooms\n",
    "final_train[\"TotalBath\"] = final_train[\"BsmtFullBath\"] + (0.5 * final_train[\"BsmtHalfBath\"]) + \\\n",
    "final_train[\"FullBath\"] + (0.5 * final_train[\"HalfBath\"])\n",
    "\n",
    "final_test[\"TotalBath\"] = final_test[\"BsmtFullBath\"] + (0.5 * final_test[\"BsmtHalfBath\"]) + \\\n",
    "final_test[\"FullBath\"] + (0.5 * final_test[\"HalfBath\"])\n",
    "\n",
    "# Total SF for house (incl. basement)\n",
    "final_train[\"AllSF\"] = final_train[\"GrLivArea\"] + final_train[\"TotalBsmtSF\"]\n",
    "\n",
    "final_test[\"AllSF\"] = final_test[\"GrLivArea\"] + final_test[\"TotalBsmtSF\"]\n",
    "\n",
    "# Total SF for 1st + 2nd floors\n",
    "final_train[\"AllFlrsSF\"] = final_train[\"1stFlrSF\"] + final_train[\"2ndFlrSF\"]\n",
    "\n",
    "final_test[\"AllFlrsSF\"] = final_test[\"1stFlrSF\"] + final_test[\"2ndFlrSF\"]\n",
    "\n",
    "# Total SF for porch\n",
    "final_train[\"AllPorchSF\"] = final_train[\"OpenPorchSF\"] + final_train[\"EnclosedPorch\"] + \\\n",
    "final_train[\"3SsnPorch\"] + final_train[\"ScreenPorch\"]\n",
    "\n",
    "final_test[\"AllPorchSF\"] = final_test[\"OpenPorchSF\"] + final_test[\"EnclosedPorch\"] + \\\n",
    "final_test[\"3SsnPorch\"] + final_test[\"ScreenPorch\"]"
   ]
  },
  {
   "cell_type": "code",
   "execution_count": 47,
   "metadata": {},
   "outputs": [
    {
     "data": {
      "text/plain": [
       "(1456, 295)"
      ]
     },
     "execution_count": 47,
     "metadata": {},
     "output_type": "execute_result"
    }
   ],
   "source": [
    "final_train.shape"
   ]
  },
  {
   "cell_type": "code",
   "execution_count": 48,
   "metadata": {},
   "outputs": [
    {
     "data": {
      "text/plain": [
       "(1459, 295)"
      ]
     },
     "execution_count": 48,
     "metadata": {},
     "output_type": "execute_result"
    }
   ],
   "source": [
    "final_test.shape"
   ]
  },
  {
   "cell_type": "markdown",
   "metadata": {},
   "source": [
    "# Modeling"
   ]
  },
  {
   "cell_type": "code",
   "execution_count": 49,
   "metadata": {},
   "outputs": [
    {
     "name": "stdout",
     "output_type": "stream",
     "text": [
      "X_train : (1019, 295)\n",
      "X_test : (437, 295)\n",
      "y_train : (1019,)\n",
      "y_test : (437,)\n"
     ]
    }
   ],
   "source": [
    "# Partition the dataset in train + validation sets\n",
    "from sklearn.model_selection import train_test_split #to create validation data set\n",
    "X_train, X_test, y_train, y_test = train_test_split(final_train, train_target_final, test_size = 0.3, random_state = 0)\n",
    "print(\"X_train : \" + str(X_train.shape))\n",
    "print(\"X_test : \" + str(X_test.shape))\n",
    "print(\"y_train : \" + str(y_train.shape))\n",
    "print(\"y_test : \" + str(y_test.shape))"
   ]
  },
  {
   "cell_type": "markdown",
   "metadata": {},
   "source": [
    " Linear Regression without regularization"
   ]
  },
  {
   "cell_type": "code",
   "execution_count": 50,
   "metadata": {},
   "outputs": [
    {
     "data": {
      "text/plain": [
       "LinearRegression()"
      ]
     },
     "execution_count": 50,
     "metadata": {},
     "output_type": "execute_result"
    }
   ],
   "source": [
    "from sklearn.linear_model import LinearRegression\n",
    "\n",
    "lm = LinearRegression()\n",
    "lm.fit(X_train, y_train)"
   ]
  },
  {
   "cell_type": "code",
   "execution_count": 51,
   "metadata": {},
   "outputs": [],
   "source": [
    "y_train_pred = lm.predict(X_train)\n",
    "y_test_pred = lm.predict(X_test)"
   ]
  },
  {
   "cell_type": "code",
   "execution_count": 52,
   "metadata": {},
   "outputs": [
    {
     "name": "stdout",
     "output_type": "stream",
     "text": [
      "MSE on Training set :  0.007327081149123877\n",
      "MSE on Test set :  0.016879783213044272\n",
      "0.8920723516191188\n"
     ]
    }
   ],
   "source": [
    "mse_train = np.mean((y_train_pred - y_train)**2)\n",
    "print(\"MSE on Training set : \", mse_train )\n",
    "\n",
    "\n",
    "mse_test = np.mean((y_test_pred - y_test)**2)\n",
    "\n",
    "print(\"MSE on Test set : \", mse_test )\n",
    "\n",
    "print(lm.score(X_test,y_test))"
   ]
  },
  {
   "cell_type": "code",
   "execution_count": 53,
   "metadata": {},
   "outputs": [
    {
     "data": {
      "image/png": "[encoded data removed]",
      "text/plain": [
       "<Figure size 432x288 with 1 Axes>"
      ]
     },
     "metadata": {
      "needs_background": "light"
     },
     "output_type": "display_data"
    },
    {
     "data": {
      "image/png": "[encoded data removed]",
      "text/plain": [
       "<Figure size 432x288 with 1 Axes>"
      ]
     },
     "metadata": {
      "needs_background": "light"
     },
     "output_type": "display_data"
    }
   ],
   "source": [
    "# Plot residuals\n",
    "plt.scatter(y_train_pred, y_train_pred - y_train, c = \"blue\", marker = \"s\", label = \"Training data\")\n",
    "plt.scatter(y_test_pred, y_test_pred - y_test, c = \"lightgreen\", marker = \"s\", label = \"Validation data\")\n",
    "plt.title(\"Linear regression\")\n",
    "plt.xlabel(\"Predicted values\")\n",
    "plt.ylabel(\"Residuals\")\n",
    "plt.legend(loc = \"upper left\")\n",
    "plt.hlines(y = 0, xmin = 10.5, xmax = 13.5, color = \"red\")\n",
    "plt.show()\n",
    "\n",
    "# Plot predictions\n",
    "plt.scatter(y_train_pred, y_train, c = \"blue\", marker = \"s\", label = \"Training data\")\n",
    "plt.scatter(y_test_pred, y_test, c = \"lightgreen\", marker = \"s\", label = \"Validation data\")\n",
    "plt.title(\"Linear regression\")\n",
    "plt.xlabel(\"Predicted values\")\n",
    "plt.ylabel(\"Real values\")\n",
    "plt.legend(loc = \"upper left\")\n",
    "plt.plot([10.5, 13.5], [10.5, 13.5], c = \"red\")\n",
    "plt.show()"
   ]
  },
  {
   "cell_type": "markdown",
   "metadata": {},
   "source": [
    "Linear Regression with Ridge regularization (L2 Penalty)"
   ]
  },
  {
   "cell_type": "code",
   "execution_count": 54,
   "metadata": {},
   "outputs": [
    {
     "name": "stdout",
     "output_type": "stream",
     "text": [
      "Best alpha : 20.0\n"
     ]
    }
   ],
   "source": [
    "from sklearn.linear_model import RidgeCV\n",
    "\n",
    "ridge = RidgeCV(alphas = [1e-15, 1e-10, 1e-8, 1e-4, 1e-3,1e-2, 1, 5, 10, 20, 30, 40, 50, 60])\n",
    "ridge.fit(X_train, y_train)\n",
    "alpha = ridge.alpha_\n",
    "print(\"Best alpha :\", alpha)"
   ]
  },
  {
   "cell_type": "code",
   "execution_count": 55,
   "metadata": {},
   "outputs": [
    {
     "data": {
      "text/plain": [
       "RidgeCV(alphas=array([1.e-15, 1.e-10, 1.e-08, 1.e-04, 1.e-03, 1.e-02, 1.e+00, 5.e+00,\n",
       "       1.e+01, 2.e+01, 3.e+01, 4.e+01, 5.e+01, 6.e+01]))"
      ]
     },
     "execution_count": 55,
     "metadata": {},
     "output_type": "execute_result"
    }
   ],
   "source": [
    "ridge.fit(X_train, y_train)"
   ]
  },
  {
   "cell_type": "code",
   "execution_count": 56,
   "metadata": {},
   "outputs": [],
   "source": [
    "y_train_ridge_pred = ridge.predict(X_train)\n",
    "y_test_ridge_pred = ridge.predict(X_test)"
   ]
  },
  {
   "cell_type": "code",
   "execution_count": 57,
   "metadata": {},
   "outputs": [
    {
     "name": "stdout",
     "output_type": "stream",
     "text": [
      "MSE on Training set :  0.009933557749274294\n",
      "MSE on Test set :  0.012115359563774289\n",
      "0.9225356006944146\n"
     ]
    }
   ],
   "source": [
    "mse_train = np.mean((y_train_ridge_pred - y_train)**2)\n",
    "print(\"MSE on Training set : \", mse_train )\n",
    "\n",
    "\n",
    "mse_test = np.mean((y_test_ridge_pred - y_test)**2)\n",
    "\n",
    "print(\"MSE on Test set : \", mse_test )\n",
    "\n",
    "print(ridge.score(X_test,y_test))\n",
    "\n",
    "#MSE on the test set slightly reduced"
   ]
  },
  {
   "cell_type": "code",
   "execution_count": 58,
   "metadata": {
    "scrolled": true
   },
   "outputs": [
    {
     "data": {
      "image/png": "[encoded data removed]",
      "text/plain": [
       "<Figure size 432x288 with 1 Axes>"
      ]
     },
     "metadata": {
      "needs_background": "light"
     },
     "output_type": "display_data"
    },
    {
     "data": {
      "image/png": "[encoded data removed]",
      "text/plain": [
       "<Figure size 432x288 with 1 Axes>"
      ]
     },
     "metadata": {
      "needs_background": "light"
     },
     "output_type": "display_data"
    }
   ],
   "source": [
    "# Plot residuals\n",
    "plt.scatter(y_train_ridge_pred, y_train_ridge_pred - y_train, c = \"blue\", marker = \"s\", label = \"Training data\")\n",
    "plt.scatter(y_test_ridge_pred, y_test_ridge_pred - y_test, c = \"lightgreen\", marker = \"s\", label = \"Validation data\")\n",
    "plt.title(\"Linear regression\")\n",
    "plt.xlabel(\"Predicted values\")\n",
    "plt.ylabel(\"Residuals\")\n",
    "plt.legend(loc = \"upper left\")\n",
    "plt.hlines(y = 0, xmin = 10.5, xmax = 13.5, color = \"red\")\n",
    "plt.show()\n",
    "\n",
    "# Plot predictions\n",
    "plt.scatter(y_train_ridge_pred, y_train, c = \"blue\", marker = \"s\", label = \"Training data\")\n",
    "plt.scatter(y_test_ridge_pred, y_test, c = \"lightgreen\", marker = \"s\", label = \"Validation data\")\n",
    "plt.title(\"Linear regression\")\n",
    "plt.xlabel(\"Predicted values\")\n",
    "plt.ylabel(\"Real values\")\n",
    "plt.legend(loc = \"upper left\")\n",
    "plt.plot([10.5, 13.5], [10.5, 13.5], c = \"red\")\n",
    "plt.show()\n",
    "\n"
   ]
  },
  {
   "cell_type": "markdown",
   "metadata": {},
   "source": [
    "Linear Regression with Lasso regularization (L1 Penalty)"
   ]
  },
  {
   "cell_type": "markdown",
   "metadata": {},
   "source": [
    "# LINEARREGRESSION"
   ]
  },
  {
   "cell_type": "code",
   "execution_count": 59,
   "metadata": {},
   "outputs": [],
   "source": [
    "from sklearn.linear_model import LinearRegression\n",
    "import numpy as np"
   ]
  },
  {
   "cell_type": "code",
   "execution_count": 60,
   "metadata": {},
   "outputs": [],
   "source": [
    "reg=LinearRegression()"
   ]
  },
  {
   "cell_type": "code",
   "execution_count": 61,
   "metadata": {},
   "outputs": [
    {
     "data": {
      "text/plain": [
       "LinearRegression()"
      ]
     },
     "execution_count": 61,
     "metadata": {},
     "output_type": "execute_result"
    }
   ],
   "source": [
    "reg.fit(X_train,y_train)"
   ]
  },
  {
   "cell_type": "code",
   "execution_count": 62,
   "metadata": {},
   "outputs": [
    {
     "data": {
      "text/plain": [
       "array([ 3.85303237e-06,  3.47366846e-02,  3.47145316e-02,  1.57095269e-03,\n",
       "        9.13731099e-04,  4.30898014e-05,  2.82968525e-05,  6.01609737e-06,\n",
       "       -1.34503771e-05,  2.08626207e-05,  5.74396485e-05,  3.10356369e-06,\n",
       "        1.17266831e-08,  6.05549408e-05,  3.03834320e-03,  2.12581961e-02,\n",
       "        4.35669796e-03,  2.06504326e-02,  7.38329847e-03, -2.27985479e-02,\n",
       "        9.82798784e-04,  1.20570585e-02, -3.86260797e-04,  3.93659155e-03,\n",
       "        1.61200445e-04,  1.06576332e-04, -8.16894340e-05, -3.91021062e-05,\n",
       "        7.55945393e-05,  1.45564106e-04, -6.53972070e-05,  1.84582441e-07,\n",
       "       -3.04610948e-03,  1.62925229e-14, -1.83182647e-02,  2.73124596e-02,\n",
       "       -1.06502633e-02,  7.40154245e-02, -3.44782725e-01,  2.07049766e-01,\n",
       "        7.83380654e-03, -2.45366301e-02,  1.40796496e-01, -1.01235146e-01,\n",
       "       -9.13216704e-02,  1.51839563e-01, -8.36756857e-03, -1.16080068e-01,\n",
       "        3.81361609e-14, -5.15686089e-02, -3.18056352e-01,  4.26895012e-01,\n",
       "       -5.99350226e-02,  5.31519273e-14, -2.57926048e-01, -2.93649639e-04,\n",
       "        2.45417951e-02, -7.84270132e-04,  1.29867097e-02, -1.17614919e-01,\n",
       "        3.47011571e-02, -7.24789937e-02,  3.75727130e-02, -2.23681373e-01,\n",
       "       -4.32986980e-15, -1.11480820e-02,  3.24664506e-02,  1.49285971e-02,\n",
       "       -1.12040761e-01,  1.86089029e-02, -1.92968510e-01,  4.12874256e-02,\n",
       "        1.27543357e-01, -1.33868704e-01, -7.74293488e-02,  6.49013214e-02,\n",
       "       -5.50105759e-02,  6.12250975e-02,  6.82432965e-02, -8.82249879e-02,\n",
       "        5.70315691e-02, -6.63997474e-02, -5.06088731e-03,  5.76176893e-02,\n",
       "       -1.38129802e-01,  4.91291916e-02,  6.05087517e-02, -1.82296156e-02,\n",
       "        1.32047900e-01, -6.72620817e-02, -5.44648197e-02, -1.95149969e-02,\n",
       "       -2.39464539e-02,  6.73894941e-02,  1.27991824e-02, -5.82853432e-02,\n",
       "        6.65769016e-02, -1.23264511e-01,  4.12116439e-02,  2.75029494e-02,\n",
       "        2.26310609e-02, -3.40144405e-02, -5.36650460e-03, -7.64566198e-02,\n",
       "        1.11153894e-01, -3.21243279e-02,  4.98655382e-02, -2.32467566e-01,\n",
       "        2.81435577e-02,  7.37257477e-16, -1.34303031e-01,  1.74041196e-01,\n",
       "       -2.51747631e-02, -1.58305595e-02,  1.01886348e-02, -8.04866732e-03,\n",
       "        2.26788346e-01, -3.04495442e-01,  9.24115538e-02,  2.76193359e-02,\n",
       "       -1.58286837e-01,  6.94679364e-03, -8.93423201e-02,  1.37937842e-01,\n",
       "       -5.11162994e-02,  5.11746547e-01, -3.33299810e-03,  2.39694909e-01,\n",
       "       -3.32539330e-01,  5.27488997e-02,  5.27488997e-02,  2.26955451e-04,\n",
       "        5.83638936e-02, -1.02601824e-01,  6.08624404e-02,  6.49680475e-02,\n",
       "       -7.10817432e-02, -1.12108890e-01,  1.12642473e-01, -2.79464172e-02,\n",
       "       -1.62692812e-02, -4.74714023e-01,  2.73066795e-01,  2.29878637e-01,\n",
       "        5.66178083e-02, -2.69471190e-02,  4.44089210e-16, -5.54719267e-02,\n",
       "        1.65242447e-02, -1.29912192e-03,  4.57477902e-03,  4.96198496e-02,\n",
       "        7.96527223e-02, -1.89787350e-01,  1.76517032e-01, -9.73726129e-02,\n",
       "        7.29975582e-02, -6.14622553e-02,  1.37663307e-01, -1.34133177e-01,\n",
       "       -9.33707460e-02, -2.69471190e-02,  5.82867088e-16, -6.76150362e-03,\n",
       "        3.39184402e-02, -6.98927391e-02, -1.87972982e-03, -1.07142963e-02,\n",
       "        2.74198329e-02, -9.35846503e-03, -3.39771715e-02, -3.74152092e-02,\n",
       "        7.66942411e-02,  1.08586016e-01, -7.06617061e-03, -2.98097449e-02,\n",
       "       -2.12269346e-01,  1.53038078e-01,  1.50774114e-01, -1.03958397e-02,\n",
       "        4.02163821e-02,  4.88057195e-02, -3.64001797e-02, -1.15919115e-02,\n",
       "        4.39429620e-02, -4.12629372e-02,  2.28126627e-01,  4.74042026e-02,\n",
       "       -3.69167751e-02, -9.75602210e-03, -5.23209391e-02, -1.48445351e-02,\n",
       "       -1.42319013e-02, -1.11785068e-02,  1.27722378e-02,  3.71886083e-02,\n",
       "       -4.80172909e-02, -5.58850266e-02, -2.66425643e-02,  1.34963472e-01,\n",
       "       -5.09423614e-02,  1.06030696e-02,  1.29719471e-02, -1.42667639e-02,\n",
       "        4.99649598e-02,  1.20882565e-01, -1.51868610e-01, -2.17021645e-01,\n",
       "       -1.54352988e-02, -2.51273816e-02,  3.66997974e-03, -4.82733683e-02,\n",
       "       -5.15158714e-02, -2.37106777e-02,  3.61747498e-02, -2.42508322e-02,\n",
       "        1.38085918e-02,  1.01417752e-01,  1.32913457e-03,  7.77902582e-02,\n",
       "       -8.25135531e-02,  3.29597460e-16, -5.62372772e-02,  3.46776421e-03,\n",
       "       -5.32542757e-03, -6.74523116e-02, -2.80752150e-01,  8.82365164e-02,\n",
       "       -8.34835673e-18,  1.90173524e-02, -8.52934740e-03, -2.01156814e-02,\n",
       "        2.37297428e-02,  1.00605456e-03,  1.31470829e-03,  5.47132272e-03,\n",
       "       -1.99072841e-02, -5.92473740e-02,  3.47906076e-02, -7.41499050e-02,\n",
       "       -1.22388532e-02,  1.79240230e-03, -9.40379816e-02, -5.60536381e-02,\n",
       "        1.02277331e-01,  1.52247076e-01,  2.46285057e-01, -4.68012329e-01,\n",
       "       -4.22913214e-02, -2.37064368e-02,  7.03315448e-02, -4.44717779e-02,\n",
       "        2.15105711e-16, -1.15802764e-02,  5.92538484e-03, -9.80042103e-02,\n",
       "        2.52705799e-01,  1.75667795e-01, -8.84788105e-03, -4.26590146e-02,\n",
       "        4.30476865e-02,  9.57533610e-03, -1.30225405e-03,  5.68776188e-02,\n",
       "       -1.26658827e-02,  0.00000000e+00,  2.02132680e-02, -2.25803702e-02,\n",
       "        2.11348328e-02, -1.34432518e-02, -5.48402554e-03, -6.55134243e-03,\n",
       "        1.51731455e-02, -2.66929538e-02,  2.63177219e-02,  1.00429795e-02,\n",
       "        4.16055508e-03,  1.88449410e-01, -1.38097862e-01,  1.84211567e-01,\n",
       "       -3.25887055e-01,  2.48727138e-01, -1.89708031e-01,  8.21490854e-02,\n",
       "       -3.34541250e-03,  0.00000000e+00, -5.43306334e-02, -9.10035795e-02,\n",
       "        2.34415668e-01, -5.45113542e-02, -9.29839284e-02,  2.83493555e-02,\n",
       "        8.14174284e-05,  6.05430949e-05,  1.00367101e-04])"
      ]
     },
     "execution_count": 62,
     "metadata": {},
     "output_type": "execute_result"
    }
   ],
   "source": [
    "reg.coef_"
   ]
  },
  {
   "cell_type": "code",
   "execution_count": 63,
   "metadata": {},
   "outputs": [
    {
     "data": {
      "text/plain": [
       "12.394718735670601"
      ]
     },
     "execution_count": 63,
     "metadata": {},
     "output_type": "execute_result"
    }
   ],
   "source": [
    "reg.intercept_"
   ]
  },
  {
   "cell_type": "code",
   "execution_count": 64,
   "metadata": {},
   "outputs": [
    {
     "data": {
      "text/plain": [
       "array([12.24182876, 12.50936636, 12.80373228, 12.50672222, 12.55008338,\n",
       "       12.31246626, 12.99911354, 12.02727402, 11.91260932, 11.74314986,\n",
       "       12.74929867, 12.67979425, 12.240608  , 12.35317169, 12.23293534,\n",
       "       12.15632501, 11.91189103, 12.41064185, 11.53196502, 12.73539342,\n",
       "       12.06006577, 11.93393503, 11.45524707, 11.85661433, 12.56136382,\n",
       "       11.94654594, 12.08192124, 11.888114  , 12.63169416, 12.50211976,\n",
       "       12.17698573, 12.07164255, 12.18941013, 12.07580648, 12.53542003,\n",
       "       11.59313827, 11.80361462, 11.0954481 , 11.93758446, 11.91472872,\n",
       "       12.23626787, 11.87035081, 12.07374404, 11.93109823, 12.27684638,\n",
       "       12.03883383, 11.44423748, 11.87795941, 11.54069582, 12.04516132,\n",
       "       11.92498503, 12.40462677, 12.57808991, 12.08587759, 11.90783719,\n",
       "       11.63160252, 12.47453237, 12.66195033, 11.89969937, 11.53499145,\n",
       "       11.71596938, 12.09847464, 11.74313947, 11.84462756, 12.0729374 ,\n",
       "       12.1463342 , 11.81702222, 11.97068433, 11.42758147, 12.48177974,\n",
       "       12.29058339, 12.68518878, 11.77922985, 12.15677152, 12.12087636,\n",
       "       12.19613988, 11.5837468 , 11.56904385, 11.53258946, 11.7081035 ,\n",
       "       11.99896927, 12.10364666, 12.13545508, 11.71158359, 11.90988552,\n",
       "       11.87616423, 11.80187021, 11.42428329, 11.55296011, 11.88148315,\n",
       "       12.04468145, 12.40188603, 12.01342497, 12.46374174, 11.7440746 ,\n",
       "       12.15200087, 11.66091669, 12.95072569, 11.70422597, 11.7874715 ,\n",
       "       12.04772559, 11.36051258, 12.23491377, 11.57733974, 11.84112602,\n",
       "       12.34000935, 11.78352279, 11.91061867, 12.2433162 , 12.10745797,\n",
       "       12.05086104, 12.418269  , 12.04885013, 12.23957707, 12.6138255 ,\n",
       "       11.59658713, 12.12240961, 11.73131645, 12.45566723, 11.88440195,\n",
       "       11.68238597, 11.86704959, 11.7343457 , 11.87240557, 12.25006594,\n",
       "       11.67723101, 12.67857486, 11.85305196, 12.0138441 , 12.26427837,\n",
       "       12.30464126, 12.03406976, 12.45614572, 12.21267151, 11.76669371,\n",
       "       12.07894473, 12.21391071, 12.2799572 , 12.60068502, 12.20314388,\n",
       "       12.07500261, 11.79764945, 12.54344962, 11.48259968, 12.15832213,\n",
       "       12.73710428, 11.86567908, 11.82535655, 11.43382542, 12.66413827,\n",
       "       11.85046446, 11.95492814, 12.69381682, 12.13843033, 13.02086012,\n",
       "       11.52463529, 12.13037565, 12.12272992, 12.34772626, 11.89817371,\n",
       "       12.37567086, 11.42355175, 12.72456728, 11.95400151, 12.0766653 ,\n",
       "       11.88159296, 11.7795368 , 12.55237802, 12.32597262, 12.26425023,\n",
       "       12.89516761, 12.58010189, 12.01060589, 11.63990102, 11.677365  ,\n",
       "       11.93458633, 11.87094306, 12.10619785, 11.66315451, 11.78220619,\n",
       "       11.8896677 , 11.76180823, 12.24388461, 12.18235057, 11.78673746,\n",
       "       12.03734882, 12.35620877, 11.77055486, 11.35708296, 11.87139308,\n",
       "       11.92222713, 11.96586324, 12.23882224, 11.92350241, 12.24487504,\n",
       "       12.30601414, 11.392624  , 11.95053573, 12.17411477, 11.81787719,\n",
       "       12.50575034, 12.73808749, 12.37598844, 11.7879996 , 12.15345927,\n",
       "       12.4053736 , 12.92963067, 11.81195033, 12.10033921, 12.15176472,\n",
       "       11.56648933, 12.06098227, 12.05651864, 12.15551258, 12.17981201,\n",
       "       12.00359864, 11.35015544, 11.95078625, 11.43078378, 12.09003987,\n",
       "       12.04075589, 12.40121302, 12.06827226, 11.96238387, 11.40829727,\n",
       "       12.32599736, 11.65953671, 11.98979688, 12.07934728, 12.29522234,\n",
       "       12.22789903, 11.77263882, 11.89945482, 11.95984435, 11.80597397,\n",
       "       12.18295928, 11.97424859, 12.52277465, 11.74323969, 13.07355397,\n",
       "       11.69259575, 12.1822232 , 11.54408165, 12.5018487 , 11.96485169,\n",
       "       11.52067498, 12.12602341, 12.48735119, 12.16744866, 12.86681067,\n",
       "       11.90220228, 11.71580477, 11.73735618, 12.74595817, 13.2218926 ,\n",
       "       12.56597952, 12.08729014, 11.9420067 , 11.24143151, 11.79472416,\n",
       "       11.58592004, 12.01299238, 12.26424272, 11.77258416, 11.98124719,\n",
       "       11.60590733, 12.29473774, 11.63238752, 12.066995  , 12.35611065,\n",
       "       12.34279509, 12.32590186, 11.2090531 , 11.92867465, 12.36844005,\n",
       "       11.53647324, 11.80027687, 11.78832927, 12.47774599, 11.60177868,\n",
       "       11.64817073, 12.78581204, 11.63450704, 11.7675441 , 11.75349731,\n",
       "       11.85277497, 12.33217581, 12.04582092, 12.00592905, 11.83380844,\n",
       "       12.93730599, 11.5017842 , 12.4514361 , 12.74537834, 11.69396212,\n",
       "       12.4299224 , 11.78482422, 11.87813675, 12.42422969, 10.81201538,\n",
       "       12.04030429, 11.6564003 , 11.96751133, 11.63726367, 12.27311336,\n",
       "       11.7029381 , 11.31478824, 11.55465312, 12.91390036, 11.66703228,\n",
       "       12.05153147, 12.25259654, 12.54041151, 12.65352485, 11.65862425,\n",
       "       12.09809289, 11.8371289 , 11.5350857 , 12.7285971 , 12.48563522,\n",
       "       11.51866411, 12.09590812, 11.81436059, 11.87335366, 12.21947697,\n",
       "       12.83564882, 11.87526554, 12.21412745, 11.59978574, 12.00728999,\n",
       "       11.82327565, 11.87950592, 12.05221538, 11.74724926, 11.50401704,\n",
       "       11.81455015, 12.37003916, 11.7141313 , 12.14616084, 12.11882484,\n",
       "       12.0042223 , 11.4492342 , 12.70140659, 11.88706199, 11.56979239,\n",
       "       12.00824918, 11.45693786, 12.05070729, 11.88949288, 12.58933892,\n",
       "       12.74858383, 11.67344724, 12.50774661, 11.42050241, 12.30979076,\n",
       "       12.11757619, 11.62026416, 12.30459038, 11.40346345, 11.7414648 ,\n",
       "       12.38818096, 12.75843568, 12.60645939, 11.85380153, 12.13282439,\n",
       "       11.29589855, 11.19536503, 12.2925512 , 12.60056972, 11.7136902 ,\n",
       "       12.47176979, 12.2219597 , 12.74964677, 11.8527784 , 12.38132074,\n",
       "       11.77913096, 10.71301458, 12.23437231, 11.97989025, 11.74697994,\n",
       "       12.0328921 , 11.88421085, 11.69006436, 11.92845914, 12.56044486,\n",
       "       11.9117176 , 11.95933641, 11.68943162, 11.71412206, 12.06152615,\n",
       "       11.9643172 , 12.07623546, 12.14639516, 12.39822819, 11.95002047,\n",
       "       12.29408425, 11.83117986, 12.74580502, 11.90954408, 12.32273214,\n",
       "       11.4833642 , 12.19740804, 12.2674193 , 11.59775657, 11.54564387,\n",
       "       12.23380812, 11.63766984, 12.52445522, 11.79873659, 11.91530002,\n",
       "       12.77832867, 11.61721999, 11.92051303, 11.72248127, 11.67540999,\n",
       "       12.57535728, 11.77765913, 12.61912535, 11.77476035, 12.11961862,\n",
       "       11.9500098 , 12.23550704, 12.01283141, 11.33149014, 11.87673995,\n",
       "       11.19625216, 11.75935154, 12.38667297, 12.57242089, 11.78953916,\n",
       "       11.76162276, 11.66586126, 11.9671593 , 12.73016001, 11.73971632,\n",
       "       11.88939109, 12.72673105])"
      ]
     },
     "execution_count": 64,
     "metadata": {},
     "output_type": "execute_result"
    }
   ],
   "source": [
    "y_pred=reg.predict(X_test)\n",
    "y_pred"
   ]
  },
  {
   "cell_type": "code",
   "execution_count": 65,
   "metadata": {},
   "outputs": [
    {
     "data": {
      "text/plain": [
       "511     12.219310\n",
       "963     12.384219\n",
       "231     12.906692\n",
       "688     12.879017\n",
       "34      12.533576\n",
       "          ...    \n",
       "416     11.915052\n",
       "745     12.610871\n",
       "1392    11.719940\n",
       "461     11.951180\n",
       "566     12.691580\n",
       "Name: SalePrice, Length: 437, dtype: float64"
      ]
     },
     "execution_count": 65,
     "metadata": {},
     "output_type": "execute_result"
    }
   ],
   "source": [
    "y_test"
   ]
  },
  {
   "cell_type": "code",
   "execution_count": 66,
   "metadata": {},
   "outputs": [
    {
     "data": {
      "text/plain": [
       "0.8920723516191188"
      ]
     },
     "execution_count": 66,
     "metadata": {},
     "output_type": "execute_result"
    }
   ],
   "source": [
    "reg.score(X_test,y_test)"
   ]
  },
  {
   "cell_type": "markdown",
   "metadata": {},
   "source": [
    "# MSE AND RMSE"
   ]
  },
  {
   "cell_type": "code",
   "execution_count": 67,
   "metadata": {},
   "outputs": [],
   "source": [
    "from sklearn.metrics import mean_squared_error\n",
    "import numpy as np"
   ]
  },
  {
   "cell_type": "code",
   "execution_count": 68,
   "metadata": {},
   "outputs": [
    {
     "name": "stdout",
     "output_type": "stream",
     "text": [
      "MSE 0.01687978321304426\n"
     ]
    }
   ],
   "source": [
    "mse=mean_squared_error(y_test,y_pred)\n",
    "\n",
    "print(\"MSE\",mse)"
   ]
  },
  {
   "cell_type": "code",
   "execution_count": 69,
   "metadata": {},
   "outputs": [
    {
     "name": "stdout",
     "output_type": "stream",
     "text": [
      "RMSE 0.12992221985882269\n"
     ]
    }
   ],
   "source": [
    "rmse=np.sqrt(mse)\n",
    "\n",
    "print(\"RMSE\",rmse)"
   ]
  },
  {
   "cell_type": "markdown",
   "metadata": {},
   "source": [
    "# SVM"
   ]
  },
  {
   "cell_type": "code",
   "execution_count": 70,
   "metadata": {},
   "outputs": [],
   "source": [
    "from sklearn.svm import SVR"
   ]
  },
  {
   "cell_type": "code",
   "execution_count": 71,
   "metadata": {},
   "outputs": [
    {
     "data": {
      "text/plain": [
       "SVR()"
      ]
     },
     "execution_count": 71,
     "metadata": {},
     "output_type": "execute_result"
    }
   ],
   "source": [
    "sr=SVR()\n",
    "sr.fit(X_train,y_train)\n"
   ]
  },
  {
   "cell_type": "code",
   "execution_count": 72,
   "metadata": {},
   "outputs": [
    {
     "data": {
      "text/plain": [
       "array([12.01222568, 12.38836868, 12.79327087, 12.17640223, 12.31191005,\n",
       "       12.28626079, 12.83264515, 11.99383041, 11.91215265, 11.74281261,\n",
       "       12.50914815, 12.62167539, 12.30752408, 12.46105059, 12.2005991 ,\n",
       "       12.10818294, 11.91772581, 12.37426086, 11.82548579, 12.59315381,\n",
       "       11.95362469, 11.88721654, 11.64648846, 11.71022246, 12.47486255,\n",
       "       11.7909933 , 12.15478198, 11.85692539, 12.66292502, 12.61624483,\n",
       "       12.02257437, 11.93654115, 12.31721998, 12.03365557, 12.12138697,\n",
       "       11.66613012, 11.78544878, 11.30953387, 12.13969934, 11.79132031,\n",
       "       12.31512517, 11.73129231, 12.34043631, 11.99434097, 12.20935892,\n",
       "       11.97628011, 11.53454026, 11.83996285, 11.825686  , 11.89454016,\n",
       "       11.71036862, 12.23949068, 12.53895713, 12.0321911 , 11.76844256,\n",
       "       11.69041751, 12.25722896, 12.69380442, 11.79002469, 11.85257699,\n",
       "       11.79516958, 12.01097079, 11.87997095, 11.72361188, 12.23842661,\n",
       "       12.16993502, 11.80240562, 12.02093946, 11.91130696, 12.46206981,\n",
       "       12.03841666, 12.50191928, 11.64182326, 12.02626916, 11.88448619,\n",
       "       12.64135186, 11.86635715, 11.83380545, 11.55497305, 11.52521621,\n",
       "       11.95447764, 12.12496776, 11.91395007, 11.47664127, 12.00499918,\n",
       "       11.81001549, 11.8982838 , 11.48797717, 11.76798893, 11.69504192,\n",
       "       12.22832814, 12.37245239, 11.93243587, 12.47027793, 11.98999006,\n",
       "       12.24307334, 11.69055761, 12.85053628, 12.01765159, 11.83360886,\n",
       "       12.02029524, 11.54975603, 12.34770861, 11.65924982, 11.83632315,\n",
       "       12.30920772, 11.86697544, 11.82914432, 12.3196268 , 11.97607743,\n",
       "       12.32008518, 12.33318927, 11.95554706, 11.96770126, 12.38494721,\n",
       "       11.54709755, 12.00899689, 11.65752678, 12.354515  , 11.71160441,\n",
       "       11.85064654, 11.98800817, 11.68864694, 12.02847302, 12.39694326,\n",
       "       11.85132848, 12.43330086, 12.03214937, 11.92741383, 12.16862301,\n",
       "       12.33876677, 11.92754856, 12.3371368 , 12.09802142, 11.81063667,\n",
       "       11.74323211, 11.98542007, 12.15013898, 12.38245585, 12.28461126,\n",
       "       12.15859511, 11.86832953, 12.82250586, 11.59278203, 12.00164388,\n",
       "       12.63030762, 12.00211176, 11.88979013, 11.88805675, 12.6846038 ,\n",
       "       11.77526092, 12.00757563, 12.76131294, 12.04916035, 12.87028713,\n",
       "       11.77141021, 12.25055299, 11.96167925, 12.09295365, 12.04306215,\n",
       "       12.11849874, 11.61220128, 12.51995676, 12.23636353, 11.89730093,\n",
       "       11.88519903, 11.78370714, 12.43244843, 12.20129286, 11.95248366,\n",
       "       12.58717182, 12.4736163 , 11.84189443, 11.70523461, 11.77779897,\n",
       "       11.70132929, 11.75113661, 12.24554837, 11.73846997, 11.68998589,\n",
       "       11.89330987, 11.73334855, 11.96794096, 11.92942695, 11.88675905,\n",
       "       12.10647783, 12.114231  , 11.87990282, 11.65646151, 12.59546184,\n",
       "       11.85424821, 12.23406671, 12.72329258, 11.78282125, 12.24949289,\n",
       "       12.25390923, 11.55559123, 11.97429654, 12.07819227, 11.96538549,\n",
       "       12.3720091 , 12.57032498, 12.18955272, 11.9091995 , 12.03311864,\n",
       "       12.31173665, 12.94137963, 11.72161604, 12.14299724, 12.00406754,\n",
       "       11.55036831, 11.78188808, 12.2253137 , 12.07099043, 12.25824908,\n",
       "       11.94397689, 11.44949419, 11.97482467, 11.60581937, 12.18412901,\n",
       "       11.77964824, 12.61905863, 11.67874617, 11.93684775, 11.36460205,\n",
       "       12.22655424, 11.74432914, 12.17206015, 12.36886004, 12.21174537,\n",
       "       12.06427975, 11.82593238, 11.97874923, 12.07317318, 12.1735152 ,\n",
       "       12.16461261, 11.95419201, 12.47810318, 11.70955641, 12.81780696,\n",
       "       11.82205588, 12.04645208, 11.52512625, 12.26892979, 11.76870476,\n",
       "       11.92342903, 12.01976264, 12.3272651 , 12.10431081, 12.84009264,\n",
       "       12.10900778, 12.00337752, 11.85693506, 12.30515367, 12.99292615,\n",
       "       12.61038381, 12.63790467, 11.97103456, 11.3630166 , 11.80017697,\n",
       "       11.67175106, 11.87967567, 12.15285786, 11.66040008, 12.10824372,\n",
       "       11.95934076, 12.2883684 , 11.43323562, 11.91790707, 12.34680432,\n",
       "       12.26795065, 12.34609307, 11.42886191, 12.02910381, 12.24315061,\n",
       "       11.75130143, 12.14114656, 12.07858907, 12.35450759, 11.8327028 ,\n",
       "       11.82301962, 12.64081167, 11.6123697 , 11.92364209, 11.67628803,\n",
       "       11.80733595, 12.24351848, 11.95981277, 12.10139438, 11.97111974,\n",
       "       12.72371956, 11.62425492, 12.28572777, 12.79796333, 11.70939679,\n",
       "       12.26631146, 12.01519045, 11.71076219, 12.43721741, 11.37790694,\n",
       "       11.99087923, 11.48614859, 12.31523452, 12.01853124, 11.99370115,\n",
       "       11.86819269, 11.5098913 , 11.90430926, 12.85089681, 11.78259806,\n",
       "       12.06960447, 12.03010309, 12.58548865, 12.77199225, 11.74228794,\n",
       "       12.13791356, 11.8660684 , 11.40740572, 12.57296776, 12.14812659,\n",
       "       11.40491962, 12.05296978, 12.01968545, 11.73113177, 12.03124332,\n",
       "       12.7100884 , 11.83232694, 12.03343427, 11.46874108, 11.96868302,\n",
       "       11.96015148, 11.85464433, 12.14510347, 11.81076607, 11.38474421,\n",
       "       11.98970637, 12.56780545, 11.76802215, 12.2210283 , 11.95674602,\n",
       "       11.90785156, 11.54588065, 12.65975639, 11.82621665, 11.41961551,\n",
       "       11.92755354, 11.50455821, 11.88645028, 11.89408142, 12.3610772 ,\n",
       "       12.30506506, 11.81817269, 12.60937967, 11.83072856, 12.18059408,\n",
       "       12.03935161, 11.75988342, 12.10488506, 11.51807989, 11.97137302,\n",
       "       12.08815406, 12.41900352, 12.49628867, 11.85094775, 12.09280438,\n",
       "       11.64793944, 11.50235262, 12.03816551, 12.29858601, 11.66822666,\n",
       "       12.35198913, 12.01362431, 12.52384417, 11.8431572 , 12.44502723,\n",
       "       11.78054411, 11.45410443, 12.0746186 , 11.96881468, 11.59992663,\n",
       "       11.77334684, 11.78309036, 11.73966359, 11.84428182, 12.39345769,\n",
       "       11.80977546, 11.87178695, 11.64457393, 12.07483989, 12.03358923,\n",
       "       11.83193721, 11.97222384, 12.17627176, 12.25568676, 11.97193758,\n",
       "       12.32787325, 11.82726539, 12.3690515 , 11.70044736, 12.22179728,\n",
       "       11.39882174, 12.0488154 , 12.10670599, 11.86577453, 11.75403983,\n",
       "       12.08519297, 11.63707328, 12.42117678, 11.76606973, 12.08403373,\n",
       "       12.62825824, 11.88875154, 11.91619964, 11.43625055, 11.64591559,\n",
       "       12.86776035, 11.44598659, 12.34265276, 11.87854149, 12.00783061,\n",
       "       12.10462413, 11.97310889, 12.36547871, 11.48049604, 11.82367081,\n",
       "       11.72883263, 11.6809232 , 12.44510276, 12.33503831, 11.66180864,\n",
       "       12.14913678, 11.79299169, 11.87549304, 12.68324362, 11.72453247,\n",
       "       11.7729527 , 12.52635403])"
      ]
     },
     "execution_count": 72,
     "metadata": {},
     "output_type": "execute_result"
    }
   ],
   "source": [
    "sr_pred=sr.predict(X_test)\n",
    "sr_pred"
   ]
  },
  {
   "cell_type": "markdown",
   "metadata": {},
   "source": [
    "# MEAN SQUARED ERROR"
   ]
  },
  {
   "cell_type": "code",
   "execution_count": 73,
   "metadata": {},
   "outputs": [],
   "source": [
    "mse=mean_squared_error(y_test,sr_pred)"
   ]
  },
  {
   "cell_type": "code",
   "execution_count": 74,
   "metadata": {},
   "outputs": [
    {
     "name": "stdout",
     "output_type": "stream",
     "text": [
      "mse 0.036550590355969644\n"
     ]
    }
   ],
   "source": [
    "print(\"mse\",mse)"
   ]
  },
  {
   "cell_type": "markdown",
   "metadata": {},
   "source": [
    "# RMSE"
   ]
  },
  {
   "cell_type": "code",
   "execution_count": 75,
   "metadata": {},
   "outputs": [
    {
     "name": "stdout",
     "output_type": "stream",
     "text": [
      "rmse 0.19118208691184863\n"
     ]
    }
   ],
   "source": [
    "rmse=np.sqrt(mse)\n",
    "print(\"rmse\",rmse)"
   ]
  },
  {
   "cell_type": "markdown",
   "metadata": {},
   "source": [
    "# MAE"
   ]
  },
  {
   "cell_type": "code",
   "execution_count": 76,
   "metadata": {},
   "outputs": [
    {
     "name": "stdout",
     "output_type": "stream",
     "text": [
      "mae 0.1395247338146615\n"
     ]
    }
   ],
   "source": [
    "from sklearn.metrics import mean_absolute_error\n",
    "\n",
    "mae= mean_absolute_error(y_test,sr_pred)\n",
    "\n",
    "print(\"mae\",mae)\n"
   ]
  },
  {
   "cell_type": "markdown",
   "metadata": {},
   "source": [
    "# MEAN ABSOLUTE PERCENTAGE ERROR"
   ]
  },
  {
   "cell_type": "code",
   "execution_count": 81,
   "metadata": {},
   "outputs": [
    {
     "data": {
      "text/plain": [
       "0.011667151540523859"
      ]
     },
     "execution_count": 81,
     "metadata": {},
     "output_type": "execute_result"
    }
   ],
   "source": [
    "import numpy as np\n",
    "\n",
    "def mean_absolute_percentage_error(y_test,sr_pred):\n",
    "    y_test,sr_pred=np.array(y_test),np.array(sr_pred)*100\n",
    "    return np.mean(np.abs((y_test - sr_pred)/y_test))\n",
    "mean_absolute_percentage_error(y_test,sr_pred)"
   ]
  },
  {
   "cell_type": "code",
   "execution_count": null,
   "metadata": {},
   "outputs": [],
   "source": []
  },
  {
   "cell_type": "code",
   "execution_count": null,
   "metadata": {},
   "outputs": [],
   "source": []
  }
 ],
 "metadata": {
  "kernelspec": {
   "display_name": "Python 3",
   "language": "python",
   "name": "python3"
  },
  "language_info": {
   "codemirror_mode": {
    "name": "ipython",
    "version": 3
   },
   "file_extension": ".py",
   "mimetype": "text/x-python",
   "name": "python",
   "nbconvert_exporter": "python",
   "pygments_lexer": "ipython3",
   "version": "3.8.8"
  }
 },
 "nbformat": 4,
 "nbformat_minor": 2
}
